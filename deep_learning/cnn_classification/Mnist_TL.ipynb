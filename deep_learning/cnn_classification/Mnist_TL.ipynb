{
 "cells": [
  {
   "cell_type": "markdown",
   "metadata": {},
   "source": [
    "L'objectif de ce TP est d'effectuer un transfert learning sur le jeu de donnée précédent\n",
    "\n",
    "Commençons par récupérer/parser le jeu de donnée tel qu'au tp précédent :"
   ]
  },
  {
   "cell_type": "code",
   "execution_count": 1,
   "metadata": {},
   "outputs": [
    {
     "name": "stdout",
     "output_type": "stream",
     "text": [
      "x_train shape: (60000, 28, 28, 1)\n",
      "60000 train samples\n",
      "10000 test samples\n"
     ]
    }
   ],
   "source": [
    "import tensorflow.keras as keras\n",
    "from tensorflow.keras.datasets import fashion_mnist\n",
    "from tensorflow.keras.layers import Dense, Dropout, Flatten\n",
    "from tensorflow.keras.layers import Conv2D, MaxPooling2D\n",
    "from tensorflow.keras import backend as K\n",
    "from tensorflow.keras.layers import Input, Lambda, BatchNormalization\n",
    "from tensorflow.keras.backend import resize_images\n",
    "from tensorflow.keras.applications.mobilenet import MobileNet\n",
    "from tensorflow.keras.applications.mobilenet_v2 import MobileNetV2\n",
    "from tensorflow.keras import Model\n",
    "import numpy as np\n",
    "import matplotlib.pyplot as plt\n",
    "\n",
    "batch_size = 128\n",
    "num_classes = 10\n",
    "epochs = 12\n",
    "\n",
    "# input image dimensions\n",
    "img_rows, img_cols = 28, 28\n",
    "\n",
    "# the data, split between train and test sets\n",
    "(x_train, y_train), (x_test, y_test) = fashion_mnist.load_data()\n",
    "\n",
    "x_train = x_train.reshape(x_train.shape[0], img_rows, img_cols, 1)\n",
    "x_test = x_test.reshape(x_test.shape[0], img_rows, img_cols, 1)\n",
    "input_shape = (img_rows, img_cols, 1)\n",
    "\n",
    "x_train = x_train.astype('float32')\n",
    "x_test = x_test.astype('float32')\n",
    "x_train /= 255\n",
    "x_test /= 255\n",
    "print('x_train shape:', x_train.shape)\n",
    "print(x_train.shape[0], 'train samples')\n",
    "print(x_test.shape[0], 'test samples')\n",
    "\n",
    "# convert class vectors to binary class matrices\n",
    "y_train = keras.utils.to_categorical(y_train, num_classes)\n",
    "y_test = keras.utils.to_categorical(y_test, num_classes)\n"
   ]
  },
  {
   "cell_type": "markdown",
   "metadata": {},
   "source": [
    "# Construisons le modele"
   ]
  },
  {
   "cell_type": "markdown",
   "metadata": {},
   "source": [
    "J'ai fais le choix de partir de Mobilenet (entrainé sur imagenet) pour ce TP. Ce n'est pas le plus performant,\n",
    "mais c'est un des plus rapide, car comme son nom l'indique il a été conçu pour tourner sur téléphone\n",
    "- Mobilenet (et la plupart des modeles disponible dans keras) ont des contraintes sur le format de l'entrée\n",
    "    - il n'accepte que des images de taille minimum 32x32 et en RGB (3 channels)\n",
    "    - il nous faut donc transformer le jeu de donnée \"comme on peut\", pour atteindre cette résolution"
   ]
  },
  {
   "cell_type": "markdown",
   "metadata": {},
   "source": [
    "- Pour transformer une image en niveau de gris en rgb, nous pouvons tout simplement dupliquer son channel existant.\n",
    "- On obtient donc une image en 3 channel, 3x le même (visuellement elle donnera l'air d'etre toujours en noir et blanc)\n",
    "- Ce n'est pas grave car la plupart des réseaux de neurones travaille sur des images en niveau de gris en interne, et font la conversion inverse"
   ]
  },
  {
   "cell_type": "code",
   "execution_count": 2,
   "metadata": {},
   "outputs": [],
   "source": [
    "x_train_3chan = np.repeat(x_train, 3, -1)\n",
    "x_test_3chan = np.repeat(x_test, 3, -1)\n"
   ]
  },
  {
   "cell_type": "markdown",
   "metadata": {},
   "source": [
    "- il nous faut maintenant augmenter sa taille\n",
    "- nous pourrions le faire avec opencv et resize, mais keras possède également sa méthode resize.\n",
    "- une astuce consiste à upsizer en un multiple de la taille originale par une constante plutôt que de convertir directement en 32*32. Comme cela, nous évitons une interpolation de pixels inexacts."
   ]
  },
  {
   "cell_type": "code",
   "execution_count": 3,
   "metadata": {},
   "outputs": [],
   "source": [
    "input_image = Input(shape=(28, 28, 3))\n",
    "resized_image = Lambda(lambda image: resize_images(\n",
    "    x=image, height_factor=2, width_factor=2, data_format='channels_last'))(input_image)\n"
   ]
  },
  {
   "cell_type": "markdown",
   "metadata": {},
   "source": [
    "- chargeons le modele pré-entrainé\n",
    "- include_top=false permet de récupérer uniquement la partie convolution"
   ]
  },
  {
   "cell_type": "code",
   "execution_count": 4,
   "metadata": {},
   "outputs": [
    {
     "name": "stdout",
     "output_type": "stream",
     "text": [
      "WARNING:tensorflow:`input_shape` is undefined or non-square, or `rows` is not in [128, 160, 192, 224]. Weights for input shape (224, 224) will be loaded as the default.\n"
     ]
    },
    {
     "name": "stderr",
     "output_type": "stream",
     "text": [
      "2021-12-16 15:42:36.951701: I tensorflow/compiler/jit/xla_cpu_device.cc:41] Not creating XLA devices, tf_xla_enable_xla_devices not set\n",
      "2021-12-16 15:42:36.952890: I tensorflow/core/platform/cpu_feature_guard.cc:142] This TensorFlow binary is optimized with oneAPI Deep Neural Network Library (oneDNN) to use the following CPU instructions in performance-critical operations:  SSE4.1 SSE4.2 AVX AVX2 FMA\n",
      "To enable them in other operations, rebuild TensorFlow with the appropriate compiler flags.\n",
      "2021-12-16 15:42:36.957753: I tensorflow/core/common_runtime/process_util.cc:146] Creating new thread pool with default inter op setting: 2. Tune using inter_op_parallelism_threads for best performance.\n"
     ]
    }
   ],
   "source": [
    "base_model = MobileNet(\n",
    "    weights='imagenet', include_top=False, input_tensor=resized_image)\n",
    "base_model.trainable = False\n",
    "x = base_model.output\n"
   ]
  },
  {
   "cell_type": "markdown",
   "metadata": {},
   "source": [
    "Sauvegarde des prédis pour éviter de surcharger le model.fit"
   ]
  },
  {
   "cell_type": "code",
   "execution_count": 5,
   "metadata": {},
   "outputs": [
    {
     "name": "stderr",
     "output_type": "stream",
     "text": [
      "2021-12-16 15:42:50.130027: I tensorflow/compiler/mlir/mlir_graph_optimization_pass.cc:116] None of the MLIR optimization passes are enabled (registered 2)\n",
      "2021-12-16 15:42:50.134136: I tensorflow/core/platform/profile_utils/cpu_utils.cc:112] CPU Frequency: 2294685000 Hz\n"
     ]
    },
    {
     "name": "stdout",
     "output_type": "stream",
     "text": [
      "(60000, 1, 1, 1024) (10000, 1, 1, 1024)\n",
      "CPU times: user 15min 8s, sys: 8min 49s, total: 23min 58s\n",
      "Wall time: 6min 9s\n"
     ]
    }
   ],
   "source": [
    "%%time\n",
    "\n",
    "res_train = base_model.predict(x_train_3chan)\n",
    "res_test = base_model.predict(x_test_3chan)\n",
    "\n",
    "print(res_train.shape, res_test.shape)\n"
   ]
  },
  {
   "cell_type": "markdown",
   "metadata": {},
   "source": [
    "- maintenant, construisez la partie classification qui sera entrainée lors du TL, ajouter l'optimizer et la loss, ... Vous devez savoir faire maintenant !\n",
    "- verifiez avec base_model.summary() que votre modele ressemble bien à ce que vous attendez"
   ]
  },
  {
   "cell_type": "code",
   "execution_count": 6,
   "metadata": {},
   "outputs": [
    {
     "name": "stdout",
     "output_type": "stream",
     "text": [
      "Model: \"Mnist_TL\"\n",
      "_________________________________________________________________\n",
      "Layer (type)                 Output Shape              Param #   \n",
      "=================================================================\n",
      "input_1 (InputLayer)         [(None, 1, 1, 1024)]      0         \n",
      "_________________________________________________________________\n",
      "flatten (Flatten)            (None, 1024)              0         \n",
      "_________________________________________________________________\n",
      "batch_normalization (BatchNo (None, 1024)              4096      \n",
      "_________________________________________________________________\n",
      "dropout (Dropout)            (None, 1024)              0         \n",
      "_________________________________________________________________\n",
      "dense (Dense)                (None, 86)                88150     \n",
      "_________________________________________________________________\n",
      "dense_1 (Dense)              (None, 64)                5568      \n",
      "_________________________________________________________________\n",
      "dense_2 (Dense)              (None, 32)                2080      \n",
      "_________________________________________________________________\n",
      "dense_3 (Dense)              (None, 10)                330       \n",
      "=================================================================\n",
      "Total params: 100,224\n",
      "Trainable params: 98,176\n",
      "Non-trainable params: 2,048\n",
      "_________________________________________________________________\n"
     ]
    }
   ],
   "source": [
    "keras.backend.clear_session()\n",
    "# TODO remplir cette cellule\n",
    "\n",
    "res_input = Input(shape=(1, 1, 1024))\n",
    "\n",
    "flatten = Flatten()(res_input)\n",
    "batch = BatchNormalization()(flatten)\n",
    "dropout = Dropout(.2)(batch)\n",
    "\n",
    "dense_64 = Dense(86, activation='relu')(dropout)\n",
    "dense_32 = Dense(64, activation='relu')(dense_64)\n",
    "dense_10 = Dense(32, activation='relu')(dense_32)\n",
    "outputs = Dense(num_classes, activation='softmax')(dense_10)\n",
    "\n",
    "model = Model(inputs=res_input, outputs=outputs, name='Mnist_TL')\n",
    "\n",
    "model.compile(loss=keras.losses.CategoricalCrossentropy(),\n",
    "              optimizer=keras.optimizer.Adam(learning_rate=.001), metrics=['accuracy'])\n",
    "\n",
    "\n",
    "model.summary()\n"
   ]
  },
  {
   "cell_type": "markdown",
   "metadata": {},
   "source": [
    "## Transfert Learning"
   ]
  },
  {
   "cell_type": "code",
   "execution_count": 7,
   "metadata": {},
   "outputs": [
    {
     "name": "stdout",
     "output_type": "stream",
     "text": [
      "Epoch 1/10\n",
      "600/600 [==============================] - 30s 43ms/step - loss: 1.6702 - accuracy: 0.4138 - val_loss: 1.2889 - val_accuracy: 0.5542\n",
      "Epoch 2/10\n",
      "600/600 [==============================] - 26s 43ms/step - loss: 1.4086 - accuracy: 0.4979 - val_loss: 1.2591 - val_accuracy: 0.5657\n",
      "Epoch 3/10\n",
      "600/600 [==============================] - 29s 48ms/step - loss: 1.3831 - accuracy: 0.5052 - val_loss: 1.2356 - val_accuracy: 0.5732\n",
      "Epoch 4/10\n",
      "600/600 [==============================] - 28s 47ms/step - loss: 1.3735 - accuracy: 0.5110 - val_loss: 1.2164 - val_accuracy: 0.5781\n",
      "Epoch 5/10\n",
      "600/600 [==============================] - 37s 61ms/step - loss: 1.3684 - accuracy: 0.5105 - val_loss: 1.2284 - val_accuracy: 0.5737\n",
      "Epoch 6/10\n",
      "600/600 [==============================] - 28s 47ms/step - loss: 1.3496 - accuracy: 0.5155 - val_loss: 1.2133 - val_accuracy: 0.5821\n",
      "Epoch 7/10\n",
      "600/600 [==============================] - 29s 48ms/step - loss: 1.3496 - accuracy: 0.5151 - val_loss: 1.2087 - val_accuracy: 0.5817\n",
      "Epoch 8/10\n",
      "600/600 [==============================] - 18s 30ms/step - loss: 1.3481 - accuracy: 0.5212 - val_loss: 1.1990 - val_accuracy: 0.5857\n",
      "Epoch 9/10\n",
      "600/600 [==============================] - 26s 43ms/step - loss: 1.3330 - accuracy: 0.5233 - val_loss: 1.2016 - val_accuracy: 0.5826\n",
      "Epoch 10/10\n",
      "600/600 [==============================] - 24s 40ms/step - loss: 1.3442 - accuracy: 0.5217 - val_loss: 1.1926 - val_accuracy: 0.5826\n",
      "CPU times: user 8min 3s, sys: 8min 15s, total: 16min 18s\n",
      "Wall time: 4min 34s\n"
     ]
    }
   ],
   "source": [
    "%%time\n",
    "# TODO : Entrainer votre modèle\n",
    "\n",
    "epochs = 10\n",
    "batch_size = 256\n",
    "\n",
    "hist = model.fit(res_train, y_train, epochs=epochs,\n",
    "                    batch_size=batch_size, validation_data=(res_test, y_test))\n"
   ]
  },
  {
   "cell_type": "markdown",
   "metadata": {},
   "source": [
    "### Evaluation"
   ]
  },
  {
   "cell_type": "code",
   "execution_count": 12,
   "metadata": {},
   "outputs": [
    {
     "name": "stdout",
     "output_type": "stream",
     "text": [
      "313/313 [==============================] - 10s 28ms/step - loss: 1.1926 - accuracy: 0.5826\n"
     ]
    },
    {
     "data": {
      "image/png": "[encoded data removed]",
      "text/plain": [
       "<Figure size 432x288 with 1 Axes>"
      ]
     },
     "metadata": {
      "needs_background": "light"
     },
     "output_type": "display_data"
    },
    {
     "data": {
      "image/png": "[encoded data removed]",
      "text/plain": [
       "<Figure size 432x288 with 1 Axes>"
      ]
     },
     "metadata": {
      "needs_background": "light"
     },
     "output_type": "display_data"
    }
   ],
   "source": [
    "# TODO : Evaluez votre modele\n",
    " \n",
    "test_loss, test_accu = model.evaluate(x=res_test, y=y_test)\n",
    "\n",
    "plt.plot(hist.history['accuracy'])\n",
    "plt.plot(hist.history['val_accuracy'])\n",
    "plt.show()\n",
    "\n",
    "plt.plot(hist.history['loss'])\n",
    "plt.plot(hist.history['val_loss'])\n",
    "plt.show()\n"
   ]
  },
  {
   "cell_type": "markdown",
   "metadata": {},
   "source": [
    "Et maintenant, optimisez votre solution :\n",
    "- Faire du Finetuning à partir du reseau que vous venez d'entrainer\n",
    "- améliorer votre architecture.\n",
    "- ajouter de la data augmentation"
   ]
  },
  {
   "cell_type": "code",
   "execution_count": null,
   "metadata": {},
   "outputs": [],
   "source": []
  }
 ],
 "metadata": {
  "kernelspec": {
   "display_name": "Python 3 (ipykernel)",
   "language": "python",
   "name": "python3"
  },
  "language_info": {
   "codemirror_mode": {
    "name": "ipython",
    "version": 3
   },
   "file_extension": ".py",
   "mimetype": "text/x-python",
   "name": "python",
   "nbconvert_exporter": "python",
   "pygments_lexer": "ipython3",
   "version": "3.8.12"
  }
 },
 "nbformat": 4,
 "nbformat_minor": 4
}
