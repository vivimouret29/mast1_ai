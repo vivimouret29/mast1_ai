{
 "cells": [
  {
   "cell_type": "markdown",
   "metadata": {
    "cell_id": "00000-6ae3a397-8a01-4c84-934d-bfcb776f74f1",
    "deepnote_cell_type": "markdown"
   },
   "source": [
    "# First try Deep Learning with kaggle house prices"
   ]
  },
  {
   "cell_type": "code",
   "execution_count": 1,
   "metadata": {
    "cell_id": "00001-7e9a09d1-018f-4182-a42f-86a2198ca75b",
    "deepnote_cell_type": "code",
    "deepnote_to_be_reexecuted": false,
    "execution_millis": 5787,
    "execution_start": 1639061901594,
    "source_hash": "9c64efe0"
   },
   "outputs": [],
   "source": [
    "import tensorflow as tf\n",
    "from tensorflow.keras.models import Sequential\n",
    "from tensorflow.keras.layers import Dense\n",
    "import pandas as pd\n",
    "import numpy as np\n",
    "from sklearn.preprocessing import StandardScaler\n",
    "from sklearn.model_selection import train_test_split\n",
    "from tensorflow.keras import metrics\n",
    "import datetime"
   ]
  },
  {
   "cell_type": "code",
   "execution_count": 2,
   "metadata": {
    "cell_id": "00002-019f5ae2-71ee-47ed-a208-4c875c44147c",
    "deepnote_cell_type": "code",
    "deepnote_to_be_reexecuted": false,
    "execution_millis": 58,
    "execution_start": 1639061907389,
    "source_hash": "62f793f1"
   },
   "outputs": [],
   "source": [
    "train =  pd.read_csv(\"~/workspace/mast1_ai/electives_fy/maths_f/house_predict/train.csv\")\n",
    "test = pd.read_csv(\"~/workspace/mast1_ai/electives_fy/maths_f/house_predict/test.csv\")"
   ]
  },
  {
   "cell_type": "code",
   "execution_count": 3,
   "metadata": {
    "cell_id": "00008-1e39eb46-9ecf-4132-83ea-d9dd6eacde31",
    "deepnote_cell_type": "code",
    "deepnote_to_be_reexecuted": false,
    "execution_millis": 18,
    "execution_start": 1639061911677,
    "source_hash": "236e8fbb",
    "tags": []
   },
   "outputs": [],
   "source": [
    "cols = ['SalePrice','OverallQual', 'GrLivArea', 'GarageCars', 'FullBath', 'YearBuilt']\n",
    "train = train[cols]\n",
    "# Create dummy values\n",
    "train = pd.get_dummies(train)\n",
    "#filling NA's with the mean of the column:\n",
    "train = train.fillna(train.mean())\n",
    "# Always standard scale the data before using NN\n",
    "scale = StandardScaler()\n",
    "X_train = train[['OverallQual', 'GrLivArea', 'GarageCars', 'FullBath', 'YearBuilt']]\n",
    "X_train = scale.fit_transform(X_train)\n",
    "# Y is just the 'SalePrice' column\n",
    "y = train['SalePrice'].values\n",
    "seed = 7\n",
    "np.random.seed(seed)\n",
    "# split into 67% for train and 33% for test\n",
    "X_train, X_test, y_train, y_test = train_test_split(X_train, y, test_size=0.33, random_state=seed)"
   ]
  },
  {
   "cell_type": "code",
   "execution_count": 4,
   "metadata": {
    "cell_id": "00007-7eb5dd30-e53b-4431-9167-f54e744f266c",
    "deepnote_cell_type": "code",
    "deepnote_to_be_reexecuted": false,
    "execution_millis": 252,
    "execution_start": 1639061919210,
    "source_hash": "1dfe4214"
   },
   "outputs": [
    {
     "name": "stderr",
     "output_type": "stream",
     "text": [
      "2021-12-09 16:31:18.698480: I tensorflow/compiler/jit/xla_cpu_device.cc:41] Not creating XLA devices, tf_xla_enable_xla_devices not set\n",
      "2021-12-09 16:31:18.701501: I tensorflow/core/platform/cpu_feature_guard.cc:142] This TensorFlow binary is optimized with oneAPI Deep Neural Network Library (oneDNN) to use the following CPU instructions in performance-critical operations:  SSE4.1 SSE4.2 AVX AVX2 FMA\n",
      "To enable them in other operations, rebuild TensorFlow with the appropriate compiler flags.\n",
      "2021-12-09 16:31:18.705114: I tensorflow/core/common_runtime/process_util.cc:146] Creating new thread pool with default inter op setting: 2. Tune using inter_op_parallelism_threads for best performance.\n"
     ]
    }
   ],
   "source": [
    "model = Sequential()\n",
    "model.add(Dense(10, input_dim=X_train.shape[1], activation='relu'))\n",
    "model.add(Dense(30, activation='relu'))\n",
    "model.add(Dense(40, activation='relu'))\n",
    "model.add(Dense(1))"
   ]
  },
  {
   "cell_type": "code",
   "execution_count": 5,
   "metadata": {
    "cell_id": "00008-1edf33c0-9ff7-4bdd-9d6e-86b8fcd04d64",
    "deepnote_cell_type": "code",
    "deepnote_to_be_reexecuted": false,
    "execution_millis": 13,
    "execution_start": 1639061922522,
    "source_hash": "ba33b42c",
    "tags": []
   },
   "outputs": [],
   "source": [
    "model.compile(optimizer ='adam', loss = 'mean_squared_error', metrics =[metrics.mae])"
   ]
  },
  {
   "cell_type": "code",
   "execution_count": 6,
   "metadata": {
    "cell_id": "00009-216a8997-6d25-40ad-a1cb-82496c8f9d72",
    "deepnote_cell_type": "code",
    "deepnote_output_heights": [
     null,
     21.199996948242188
    ],
    "deepnote_to_be_reexecuted": false,
    "execution_millis": 18151,
    "execution_start": 1639061930584,
    "source_hash": "6e04f920",
    "tags": []
   },
   "outputs": [
    {
     "name": "stderr",
     "output_type": "stream",
     "text": [
      "2021-12-09 16:31:19.602306: I tensorflow/core/profiler/lib/profiler_session.cc:136] Profiler session initializing.\n",
      "2021-12-09 16:31:19.602388: I tensorflow/core/profiler/lib/profiler_session.cc:155] Profiler session started.\n",
      "2021-12-09 16:31:19.602536: I tensorflow/core/profiler/lib/profiler_session.cc:172] Profiler session tear down.\n",
      "2021-12-09 16:31:20.015492: I tensorflow/compiler/mlir/mlir_graph_optimization_pass.cc:116] None of the MLIR optimization passes are enabled (registered 2)\n",
      "2021-12-09 16:31:20.019306: I tensorflow/core/platform/profile_utils/cpu_utils.cc:112] CPU Frequency: 2294685000 Hz\n"
     ]
    },
    {
     "name": "stdout",
     "output_type": "stream",
     "text": [
      "Epoch 1/20\n",
      " 1/31 [..............................] - ETA: 4:36 - loss: 44248096768.0000 - mean_absolute_error: 201305.3906"
     ]
    },
    {
     "name": "stderr",
     "output_type": "stream",
     "text": [
      "2021-12-09 16:31:29.703456: I tensorflow/core/profiler/lib/profiler_session.cc:136] Profiler session initializing.\n",
      "2021-12-09 16:31:29.703528: I tensorflow/core/profiler/lib/profiler_session.cc:155] Profiler session started.\n"
     ]
    },
    {
     "name": "stdout",
     "output_type": "stream",
     "text": [
      " 3/31 [=>............................] - ETA: 16s - loss: 40379355136.0000 - mean_absolute_error: 189820.3854"
     ]
    },
    {
     "name": "stderr",
     "output_type": "stream",
     "text": [
      "2021-12-09 16:31:30.202706: I tensorflow/core/profiler/lib/profiler_session.cc:71] Profiler session collecting data.\n",
      "2021-12-09 16:31:30.205090: I tensorflow/core/profiler/lib/profiler_session.cc:172] Profiler session tear down.\n",
      "2021-12-09 16:31:30.366628: I tensorflow/core/profiler/rpc/client/save_profile.cc:137] Creating directory: logs/fit/20211209-163119/train/plugins/profile/2021_12_09_16_31_30\n",
      "2021-12-09 16:31:30.367907: I tensorflow/core/profiler/rpc/client/save_profile.cc:143] Dumped gzipped tool data for trace.json.gz to logs/fit/20211209-163119/train/plugins/profile/2021_12_09_16_31_30/LAPTOP-DMWORK.trace.json.gz\n",
      "2021-12-09 16:31:30.400423: I tensorflow/core/profiler/rpc/client/save_profile.cc:137] Creating directory: logs/fit/20211209-163119/train/plugins/profile/2021_12_09_16_31_30\n",
      "2021-12-09 16:31:30.400768: I tensorflow/core/profiler/rpc/client/save_profile.cc:143] Dumped gzipped tool data for memory_profile.json.gz to logs/fit/20211209-163119/train/plugins/profile/2021_12_09_16_31_30/LAPTOP-DMWORK.memory_profile.json.gz\n",
      "2021-12-09 16:31:30.401210: I tensorflow/core/profiler/rpc/client/capture_profile.cc:251] Creating directory: logs/fit/20211209-163119/train/plugins/profile/2021_12_09_16_31_30Dumped tool data for xplane.pb to logs/fit/20211209-163119/train/plugins/profile/2021_12_09_16_31_30/LAPTOP-DMWORK.xplane.pb\n",
      "Dumped tool data for overview_page.pb to logs/fit/20211209-163119/train/plugins/profile/2021_12_09_16_31_30/LAPTOP-DMWORK.overview_page.pb\n",
      "Dumped tool data for input_pipeline.pb to logs/fit/20211209-163119/train/plugins/profile/2021_12_09_16_31_30/LAPTOP-DMWORK.input_pipeline.pb\n",
      "Dumped tool data for tensorflow_stats.pb to logs/fit/20211209-163119/train/plugins/profile/2021_12_09_16_31_30/LAPTOP-DMWORK.tensorflow_stats.pb\n",
      "Dumped tool data for kernel_stats.pb to logs/fit/20211209-163119/train/plugins/profile/2021_12_09_16_31_30/LAPTOP-DMWORK.kernel_stats.pb\n",
      "\n"
     ]
    },
    {
     "name": "stdout",
     "output_type": "stream",
     "text": [
      "31/31 [==============================] - 20s 368ms/step - loss: 38066127104.0000 - mean_absolute_error: 179854.0146 - val_loss: 41088778240.0000 - val_mean_absolute_error: 184176.9219\n",
      "Epoch 2/20\n",
      "31/31 [==============================] - 5s 153ms/step - loss: 38178765312.0000 - mean_absolute_error: 180537.4600 - val_loss: 41087168512.0000 - val_mean_absolute_error: 184173.1562\n",
      "Epoch 3/20\n",
      "31/31 [==============================] - 4s 132ms/step - loss: 37249338112.0000 - mean_absolute_error: 177731.2041 - val_loss: 41082150912.0000 - val_mean_absolute_error: 184161.6094\n",
      "Epoch 4/20\n",
      "31/31 [==============================] - 5s 156ms/step - loss: 36464162112.0000 - mean_absolute_error: 176202.5942 - val_loss: 41068621824.0000 - val_mean_absolute_error: 184130.9375\n",
      "Epoch 5/20\n",
      "31/31 [==============================] - 4s 111ms/step - loss: 37721988608.0000 - mean_absolute_error: 179037.7646 - val_loss: 41037541376.0000 - val_mean_absolute_error: 184061.4219\n",
      "Epoch 6/20\n",
      "31/31 [==============================] - 3s 98ms/step - loss: 36818369536.0000 - mean_absolute_error: 177368.2637 - val_loss: 40975806464.0000 - val_mean_absolute_error: 183924.0938\n",
      "Epoch 7/20\n",
      "31/31 [==============================] - 4s 117ms/step - loss: 37222917376.0000 - mean_absolute_error: 177846.0420 - val_loss: 40864960512.0000 - val_mean_absolute_error: 183678.0625\n",
      "Epoch 8/20\n",
      "31/31 [==============================] - 4s 134ms/step - loss: 37880753920.0000 - mean_absolute_error: 179328.8765 - val_loss: 40682504192.0000 - val_mean_absolute_error: 183273.6719\n",
      "Epoch 9/20\n",
      "31/31 [==============================] - 5s 168ms/step - loss: 37208496256.0000 - mean_absolute_error: 177637.4258 - val_loss: 40408293376.0000 - val_mean_absolute_error: 182662.5625\n",
      "Epoch 10/20\n",
      "31/31 [==============================] - 4s 126ms/step - loss: 37118161024.0000 - mean_absolute_error: 177318.4692 - val_loss: 40001712128.0000 - val_mean_absolute_error: 181755.5469\n",
      "Epoch 11/20\n",
      "31/31 [==============================] - 3s 85ms/step - loss: 36590244928.0000 - mean_absolute_error: 175050.0361 - val_loss: 39433142272.0000 - val_mean_absolute_error: 180479.6562\n",
      "Epoch 12/20\n",
      "31/31 [==============================] - 4s 125ms/step - loss: 36457139648.0000 - mean_absolute_error: 176042.0532 - val_loss: 38664089600.0000 - val_mean_absolute_error: 178741.0469\n",
      "Epoch 13/20\n",
      "31/31 [==============================] - 4s 126ms/step - loss: 35032631872.0000 - mean_absolute_error: 172687.3398 - val_loss: 37710315520.0000 - val_mean_absolute_error: 176549.1719\n",
      "Epoch 14/20\n",
      "31/31 [==============================] - 4s 129ms/step - loss: 34468739648.0000 - mean_absolute_error: 171625.7754 - val_loss: 36488896512.0000 - val_mean_absolute_error: 173703.0781\n",
      "Epoch 15/20\n",
      "31/31 [==============================] - 7s 227ms/step - loss: 35001698752.0000 - mean_absolute_error: 171856.3267 - val_loss: 35010363392.0000 - val_mean_absolute_error: 170185.2656\n",
      "Epoch 16/20\n",
      "31/31 [==============================] - 4s 137ms/step - loss: 32888175360.0000 - mean_absolute_error: 166210.7925 - val_loss: 33278621696.0000 - val_mean_absolute_error: 165952.4375\n",
      "Epoch 17/20\n",
      "31/31 [==============================] - 7s 219ms/step - loss: 29713250432.0000 - mean_absolute_error: 159375.2080 - val_loss: 31292868608.0000 - val_mean_absolute_error: 160932.2188\n",
      "Epoch 18/20\n",
      "31/31 [==============================] - 5s 155ms/step - loss: 28217908672.0000 - mean_absolute_error: 154188.9551 - val_loss: 29040668672.0000 - val_mean_absolute_error: 155015.2969\n",
      "Epoch 19/20\n",
      "31/31 [==============================] - 5s 174ms/step - loss: 26113331584.0000 - mean_absolute_error: 148885.9551 - val_loss: 26530621440.0000 - val_mean_absolute_error: 148108.0312\n",
      "Epoch 20/20\n",
      "31/31 [==============================] - 3s 114ms/step - loss: 24224625984.0000 - mean_absolute_error: 142327.1079 - val_loss: 23977246720.0000 - val_mean_absolute_error: 140625.2656\n",
      "CPU times: user 2min 28s, sys: 2min 56s, total: 5min 25s\n",
      "Wall time: 1min 45s\n"
     ]
    },
    {
     "data": {
      "text/plain": [
       "<tensorflow.python.keras.callbacks.History at 0x7ff41f747280>"
      ]
     },
     "execution_count": 6,
     "metadata": {},
     "output_type": "execute_result"
    }
   ],
   "source": [
    "%%time\n",
    "log_dir = \"logs/fit/\" + datetime.datetime.now().strftime(\"%Y%m%d-%H%M%S\")\n",
    "tensorboard_callback = tf.keras.callbacks.TensorBoard(log_dir=log_dir, histogram_freq=1)\n",
    "model.fit(X_train, y_train, validation_data=(X_test,y_test), epochs=20, batch_size=32, callbacks=[tensorboard_callback])"
   ]
  },
  {
   "cell_type": "code",
   "execution_count": 7,
   "metadata": {
    "cell_id": "00012-8e830f75-c68b-45ce-be91-ed8680632c70",
    "deepnote_cell_type": "code",
    "deepnote_to_be_reexecuted": false,
    "execution_millis": 6999,
    "execution_start": 1639058716029,
    "source_hash": "2451c0e9",
    "tags": []
   },
   "outputs": [
    {
     "name": "stdout",
     "output_type": "stream",
     "text": [
      "Collecting pyngrok==5.0.5\n",
      "  Downloading pyngrok-5.0.5.tar.gz (745 kB)\n",
      "\u001b[K     |████████████████████████████████| 745 kB 2.4 MB/s eta 0:00:01\n",
      "\u001b[?25hCollecting PyYAML\n",
      "  Using cached PyYAML-6.0-cp38-cp38-manylinux_2_5_x86_64.manylinux1_x86_64.manylinux_2_12_x86_64.manylinux2010_x86_64.whl (701 kB)\n",
      "Building wheels for collected packages: pyngrok\n",
      "  Building wheel for pyngrok (setup.py) ... \u001b[?25ldone\n",
      "\u001b[?25h  Created wheel for pyngrok: filename=pyngrok-5.0.5-py3-none-any.whl size=19259 sha256=6e6bb714af3aa442f087df2458be3430056ab31c19dcf5ca1401fe75ba36241f\n",
      "  Stored in directory: /home/daftvm/.cache/pip/wheels/ae/90/7d/ffada5b5eef2e643d07a755053acb0c0ad64a74b534a8ad5f2\n",
      "Successfully built pyngrok\n",
      "Installing collected packages: PyYAML, pyngrok\n",
      "Successfully installed PyYAML-6.0 pyngrok-5.0.5\n"
     ]
    }
   ],
   "source": [
    "!pip install pyngrok==5.0.5"
   ]
  },
  {
   "cell_type": "code",
   "execution_count": 8,
   "metadata": {
    "cell_id": "00012-41e1a4e9-638c-4ff8-aeb7-0adf105be9c2",
    "deepnote_cell_type": "code",
    "deepnote_to_be_reexecuted": false,
    "execution_millis": 1,
    "execution_start": 1639058634431,
    "source_hash": "7670584a",
    "tags": []
   },
   "outputs": [],
   "source": [
    "%load_ext tensorboard"
   ]
  },
  {
   "cell_type": "code",
   "execution_count": 9,
   "metadata": {
    "cell_id": "00010-d39a5d12-f29e-42a3-a763-ed425bb7638b",
    "deepnote_cell_type": "code",
    "deepnote_output_heights": [
     21.199996948242188
    ],
    "deepnote_to_be_reexecuted": false,
    "execution_millis": 8536,
    "execution_start": 1639058637517,
    "source_hash": "8b666ece",
    "tags": []
   },
   "outputs": [
    {
     "data": {
      "text/html": [
       "\n",
       "      <iframe id=\"tensorboard-frame-ba9d295a618597da\" width=\"100%\" height=\"800\" frameborder=\"0\">\n",
       "      </iframe>\n",
       "      <script>\n",
       "        (function() {\n",
       "          const frame = document.getElementById(\"tensorboard-frame-ba9d295a618597da\");\n",
       "          const url = new URL(\"/\", window.location);\n",
       "          const port = 6006;\n",
       "          if (port) {\n",
       "            url.port = port;\n",
       "          }\n",
       "          frame.src = url;\n",
       "        })();\n",
       "      </script>\n",
       "    "
      ],
      "text/plain": [
       "<IPython.core.display.HTML object>"
      ]
     },
     "metadata": {},
     "output_type": "display_data"
    }
   ],
   "source": [
    "%tensorboard --logdir logs/fit"
   ]
  },
  {
   "cell_type": "code",
   "execution_count": 10,
   "metadata": {
    "cell_id": "00013-66605b93-0fe1-4467-aadc-c08357555ee2",
    "deepnote_cell_type": "code",
    "deepnote_to_be_reexecuted": false,
    "execution_millis": 789,
    "execution_start": 1639058743464,
    "source_hash": "a526bdad",
    "tags": []
   },
   "outputs": [
    {
     "name": "stdout",
     "output_type": "stream",
     "text": [
      "http://5191-92-103-174-138.ngrok.io                                                                 \n"
     ]
    }
   ],
   "source": [
    "from pyngrok import ngrok\n",
    "public_url = ngrok.connect(6006).public_url\n",
    "print(public_url)"
   ]
  },
  {
   "cell_type": "code",
   "execution_count": null,
   "metadata": {
    "cell_id": "00016-d7c65f17-341b-4742-808f-46615ba7827c",
    "deepnote_cell_type": "code",
    "tags": []
   },
   "outputs": [],
   "source": []
  }
 ],
 "metadata": {
  "deepnote": {},
  "deepnote_execution_queue": [],
  "deepnote_notebook_id": "84069a82-3a77-47e3-bd34-ad5a4cf8303e",
  "kernelspec": {
   "display_name": "Python 3",
   "language": "python",
   "name": "python3"
  },
  "language_info": {
   "codemirror_mode": {
    "name": "ipython",
    "version": 3
   },
   "file_extension": ".py",
   "mimetype": "text/x-python",
   "name": "python",
   "nbconvert_exporter": "python",
   "pygments_lexer": "ipython3",
   "version": "3.8.12"
  }
 },
 "nbformat": 4,
 "nbformat_minor": 5
}
