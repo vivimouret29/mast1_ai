{
 "cells": [
  {
   "cell_type": "markdown",
   "metadata": {},
   "source": [
    "# Tp explicabilité:\n",
    "\n",
    "Dans ce tp nous allons découvrir une approche relativement simple qui permet d'apporter quelques features d'explicabilité du modèle. L'approche est ici assez maligne puisqu'elle est agnostique au modèle utilisée, l'idée consiste pour une classification d'images, à comprendre quels sont les pixels responsable de la prédiction d'une classe.\n",
    "\n",
    "En effet, imaginons que l'on entraîne un modèle à faire une classification chien/chat et que les pixels responsables de la classification d'une image sont les pixels du canapé, cela peut nous poser de nombreuses intérrogations sur la robustesse du modèle !\n",
    "\n",
    "Vous allez donc au travers de ce tp, découvrir une manière de le faire.\n",
    "\n",
    "N'hésitez pas à faire ce tp sur google collaboratory, cela vous permettra de bénéficier d'un GPU et de ne pas perdre trop de temps sur l'instalaltion de lime (j'ai eu plusieurs problèmes d'import dans un jupyter notebook)"
   ]
  },
  {
   "cell_type": "markdown",
   "metadata": {},
   "source": [
    "# Les données \n",
    "Nous allons utiliser un jeu de donénes relativement simple pour une tâche de computer vision : Cat vs Dog : https://www.kaggle.com/c/dogs-vs-cats. Commencez par télécharger les données puis à les explorer en fournissant quelques statistisiques de base comme le nombre de chiens et de chats.\n",
    "Lisez le jeu de donénes et préparez les pour qu'elles soient directement utilisables par un modèle de DL (lecture, normalisation, etc.)"
   ]
  },
  {
   "cell_type": "code",
   "execution_count": null,
   "metadata": {},
   "outputs": [],
   "source": []
  },
  {
   "cell_type": "markdown",
   "metadata": {},
   "source": [
    "# Le modèle\n",
    "L'idée est ici de perdre le moins de temps sur cette partie, construisez donc un modèle keras de faible taille (sinon ça risque de mouliner pas mal sur la suite du tp ;) ), puis entraînez le sur seulement une epoch pour avoir de mauvaises performances (si si c'est voulu), sinon la suite du tp risque de ne pas avoir beaucou d'intérêt."
   ]
  },
  {
   "cell_type": "code",
   "execution_count": null,
   "metadata": {},
   "outputs": [],
   "source": []
  },
  {
   "cell_type": "markdown",
   "metadata": {},
   "source": [
    "# L'explicabilité :\n",
    "commencez pa installer le package lime"
   ]
  },
  {
   "cell_type": "code",
   "execution_count": null,
   "metadata": {},
   "outputs": [],
   "source": [
    "!pip install lime"
   ]
  },
  {
   "cell_type": "markdown",
   "metadata": {},
   "source": [
    "On va importer maintenant la méthode lime_image, puis créer un explainer."
   ]
  },
  {
   "cell_type": "code",
   "execution_count": null,
   "metadata": {},
   "outputs": [],
   "source": [
    "from lime import lime_image\n",
    "\n",
    "explainer = lime_image.LimeImageExplainer()"
   ]
  },
  {
   "cell_type": "markdown",
   "metadata": {},
   "source": [
    "puis l'utiliser en lui fournissant une image ainsi que la fonction predict du modèle entraîné :"
   ]
  },
  {
   "cell_type": "code",
   "execution_count": null,
   "metadata": {},
   "outputs": [],
   "source": [
    "explanation = explainer.explain_instance(images[0].astype('double'), model.predict,  \n",
    "                                         top_labels=3, hide_color=0, num_samples=1000)"
   ]
  },
  {
   "cell_type": "markdown",
   "metadata": {},
   "source": [
    "# Maintenant observons le résultat de Lime : "
   ]
  },
  {
   "cell_type": "code",
   "execution_count": null,
   "metadata": {},
   "outputs": [],
   "source": [
    "from skimage.segmentation import mark_boundaries\n",
    "\n",
    "temp_1, mask_1 = explanation.get_image_and_mask(explanation.top_labels[0], positive_only=True, num_features=5, hide_rest=True)\n",
    "temp_2, mask_2 = explanation.get_image_and_mask(explanation.top_labels[0], positive_only=False, num_features=10, hide_rest=False)\n",
    "\n",
    "fig, (ax1, ax2) = plt.subplots(1, 2, figsize=(15,15))\n",
    "ax1.imshow(mark_boundaries(temp_1, mask_1))\n",
    "ax2.imshow(mark_boundaries(temp_2, mask_2))\n",
    "ax1.axis('off')\n",
    "ax2.axis('off')"
   ]
  },
  {
   "cell_type": "markdown",
   "metadata": {},
   "source": [
    "Le résultat n'est pas terrible... relancer maintenant l'entrainement du modèle jusqu'à avoir des performances acceptables (accuracy > 80 %) et relancez l'explication."
   ]
  },
  {
   "cell_type": "markdown",
   "metadata": {},
   "source": [
    "# Analyse des mauvaises prédicitons"
   ]
  },
  {
   "cell_type": "markdown",
   "metadata": {},
   "source": [
    "Maintenant regarder les images que votre modèle n'est toujours pas capable de prédire avec le bon label (vous pouvez aussi faire des tests avec des images de Google) pui essayer d'expliquer le modèle avec une image mal prédite. Que pouvez-vous en conclure ? Quelles pites cela vous donne pour un prochain réentrainement ? "
   ]
  },
  {
   "cell_type": "code",
   "execution_count": null,
   "metadata": {},
   "outputs": [],
   "source": []
  },
  {
   "cell_type": "markdown",
   "metadata": {},
   "source": [
    "# Grad Cam"
   ]
  },
  {
   "cell_type": "markdown",
   "metadata": {},
   "source": [
    "En vous basant sur ce tutoriel keras par françois Chollet (https://keras.io/examples/vision/grad_cam/) , utilisez l'algorithme GradCam sur votre modèle sur un ensemble d'images (bien et mal classées) pour comprendre les prédictions du modèle comme pour la méthode avec Lime"
   ]
  },
  {
   "cell_type": "code",
   "execution_count": null,
   "metadata": {},
   "outputs": [],
   "source": []
  },
  {
   "cell_type": "markdown",
   "metadata": {},
   "source": [
    "# Transfert Learning\n",
    "Utilisez un modèle entrainé sur gros dataset comme COCO, faites du transfert Learning (vgg, efficentNet, ) puis relancez l'explication, cela vous donne-t'il confiance au modèle ?"
   ]
  },
  {
   "cell_type": "markdown",
   "metadata": {},
   "source": []
  }
 ],
 "metadata": {
  "kernelspec": {
   "display_name": "Python 3",
   "language": "python",
   "name": "python3"
  },
  "language_info": {
   "codemirror_mode": {
    "name": "ipython",
    "version": 3
   },
   "file_extension": ".py",
   "mimetype": "text/x-python",
   "name": "python",
   "nbconvert_exporter": "python",
   "pygments_lexer": "ipython3",
   "version": "3.8.12"
  }
 },
 "nbformat": 4,
 "nbformat_minor": 4
}
