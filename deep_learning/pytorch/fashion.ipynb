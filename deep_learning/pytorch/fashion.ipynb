{
 "cells": [
  {
   "cell_type": "code",
   "execution_count": null,
   "metadata": {},
   "outputs": [],
   "source": [
    "import torch\n",
    "import torchvision\n",
    "from torch import nn, optim, no_grad\n"
   ]
  },
  {
   "cell_type": "markdown",
   "metadata": {},
   "source": [
    "# Implémentez le même modele que le précédent en torch"
   ]
  },
  {
   "cell_type": "markdown",
   "metadata": {},
   "source": [
    "- vous pouvez utiliser nn.Sequential(...) de manière similaire à keras\n",
    "- nn.Flatten()\n",
    "- nn.Softmax()\n",
    "- Dense n'existe pas, il faut l'obtenir comme combinaison de Linear (perceptron) et une fonction d'activation de votre choix (RelU)"
   ]
  },
  {
   "cell_type": "code",
   "execution_count": 2,
   "metadata": {},
   "outputs": [
    {
     "data": {
      "text/plain": [
       "Sequential(\n",
       "  (0): Flatten()\n",
       "  (1): Linear(in_features=784, out_features=128, bias=True)\n",
       "  (2): ReLU()\n",
       "  (3): Linear(in_features=128, out_features=10, bias=True)\n",
       "  (4): Softmax(dim=1)\n",
       ")"
      ]
     },
     "execution_count": 2,
     "metadata": {},
     "output_type": "execute_result"
    }
   ],
   "source": [
    "model = nn.Sequential(\n",
    "    nn.Flatten(),\n",
    "    nn.Linear(28*28, 128),\n",
    "    nn.ReLU(),\n",
    "    nn.Linear(128, 10),\n",
    "    nn.Softmax(dim=1)\n",
    ")\n",
    "model\n"
   ]
  },
  {
   "cell_type": "markdown",
   "metadata": {},
   "source": [
    "- attention: model.train n'entraine pas le modele, mais permet juste de mettre ses poids comme \"entrainables\""
   ]
  },
  {
   "cell_type": "code",
   "execution_count": 3,
   "metadata": {},
   "outputs": [
    {
     "data": {
      "text/plain": [
       "Sequential(\n",
       "  (0): Flatten()\n",
       "  (1): Linear(in_features=784, out_features=128, bias=True)\n",
       "  (2): ReLU()\n",
       "  (3): Linear(in_features=128, out_features=10, bias=True)\n",
       "  (4): Softmax(dim=1)\n",
       ")"
      ]
     },
     "execution_count": 3,
     "metadata": {},
     "output_type": "execute_result"
    }
   ],
   "source": [
    "model.train()\n"
   ]
  },
  {
   "cell_type": "markdown",
   "metadata": {},
   "source": [
    "## Télécharger et préparer le jeu de donnée fashion mnist"
   ]
  },
  {
   "cell_type": "code",
   "execution_count": 4,
   "metadata": {},
   "outputs": [],
   "source": [
    "# Créer un générateur de batch\n",
    "from tensorflow.keras.datasets import fashion_mnist\n",
    "class_names = ['T-shirt/top', 'Trouser', 'Pullover', 'Dress', 'Coat',\n",
    "               'Sandal', 'Shirt', 'Sneaker', 'Bag', 'Ankle boot']\n",
    "(train_img, train_lbl), (val_img, val_lbl) = fashion_mnist.load_data()\n"
   ]
  },
  {
   "cell_type": "markdown",
   "metadata": {},
   "source": [
    "- pytorch ne possède pas de primitives aussi haut niveau que keras pour l'entrainement.\n",
    "- les reseaux de neurones sont entrainés par \"batchs\", un petit nombre de données suffisamment petit pour tenir en mémoire, mais suffisamment grand pour que des indicateurs statistiques (par exemple la moyenne, utilisée pour obtenir la loss) fonctionne dessus. Keras nous cache la création de batch, mais pour Pytorch il faut l'écrire !\n",
    "- créez donc une fonction prenant en entrée la taille des batchs désirées, et donnant en sortie les batchs du jeu d'entrainement et leurs labels correspondants\n",
    "- astuce : les générateurs en pythons sont particulierement adaptés à cela !"
   ]
  },
  {
   "cell_type": "code",
   "execution_count": 5,
   "metadata": {},
   "outputs": [],
   "source": [
    "def batch_generator(data, label, batch_size):\n",
    "    current_idx = 0\n",
    "    size = len(label)\n",
    "    while(current_idx + batch_size < size):\n",
    "        yield(data[current_idx:current_idx+batch_size], label[current_idx:current_idx+batch_size])\n",
    "        current_idx += batch_size\n"
   ]
  },
  {
   "cell_type": "markdown",
   "metadata": {},
   "source": [
    "Le générateur ci-dessus est très simple, comment pourrait-on l'améliorer  ?\n",
    "- mélanger le jeu de donnée avant de le fournir\n",
    "- mieux gérer les derniers éléments (buffer circulaire par exemple)"
   ]
  },
  {
   "cell_type": "markdown",
   "metadata": {},
   "source": [
    "- on crée l'optimizer et la fonction de loss, comme pour keras :"
   ]
  },
  {
   "cell_type": "code",
   "execution_count": 6,
   "metadata": {},
   "outputs": [],
   "source": [
    "optimizer = optim.SGD(model.parameters(), lr=0.01)\n",
    "loss_function = nn.NLLLoss()\n"
   ]
  },
  {
   "cell_type": "markdown",
   "metadata": {},
   "source": [
    "- effectuer l'entrainement. A chaque epoque, l'ensemble du jeu de donnée doit être présenter, batch par batch, et le modele est entrainé par descente du gradient sur ce batch"
   ]
  },
  {
   "cell_type": "code",
   "execution_count": 7,
   "metadata": {},
   "outputs": [
    {
     "name": "stdout",
     "output_type": "stream",
     "text": [
      "Epoch  0\n",
      "Epoch  1\n",
      "Epoch  2\n",
      "Epoch  3\n",
      "Epoch  4\n",
      "Epoch  5\n",
      "Epoch  6\n",
      "Epoch  7\n",
      "Epoch  8\n",
      "Epoch  9\n"
     ]
    }
   ],
   "source": [
    "epochs = 10\n",
    "batch_size = 1000\n",
    "for epoch in range(epochs):\n",
    "    print(\"Epoch \", epoch)\n",
    "    nb_batch = 0\n",
    "    for batch, label in batch_generator(train_img, train_lbl, batch_size):\n",
    "        # il est necessaire de convertir nos données numpy en tensor torch au bon format\n",
    "        batch = torch.from_numpy(batch).float()\n",
    "        label = torch.from_numpy(label).long()\n",
    "\n",
    "        # remet à zero les gradients\n",
    "        optimizer.zero_grad()\n",
    "\n",
    "        # obtient les predictions sur le batch en cours\n",
    "        batch_preds = model(batch)\n",
    "        # calcule la loss en fonction des predictions et des labels pour le batch\n",
    "        batch_loss = loss_function(batch_preds, label)\n",
    "\n",
    "        # effectue l'entrainement en calculant les gradients, puis modifiant les poids suivant la politique de l'optimizer.\n",
    "        batch_loss.backward()\n",
    "        optimizer.step()\n"
   ]
  },
  {
   "cell_type": "markdown",
   "metadata": {},
   "source": [
    "- Pytorch cache moins le fonctionnement précis des réseaux de neurones que Keras\n",
    "- Cela offre davantage de souplesse et de fonctionalité\n",
    "- On peut faire pareil en Keras/Tensorflow, et on en a parfois besoin ! (par exemple lorsque l'on a besoin de calculer plus qu'une sortie, par exemple la valeur de couches intermediaires pour de la visualisation/explication)\n",
    "- Il nécessite un peu plus de code\n",
    "- A retenir : il faut toujours penser à caster les entrées en tenseurs, et caster les sorties en numpy si besoin.\n",
    "    - ce formalisme est justifié car avoir acces au tensor nous permer par exemple de choisir de le mettre sur cpu ou sur gpu, et ainsi offre une manière simple de faire tourner nos reseaux de neurones sur cpu ou gpu\n",
    "    - gpu_tensor = notre_tensor.to(torch.device(\"cuda:0\"))\n",
    "    - cela permet aussi dynamiquement de choisir sur quel gpus ou cpu faire nos calculs si on en a plusieurs !"
   ]
  },
  {
   "cell_type": "markdown",
   "metadata": {},
   "source": [
    "## Evaluation des résultats"
   ]
  },
  {
   "cell_type": "markdown",
   "metadata": {},
   "source": [
    "- vous pouvez utiliser le code du tp keras\n",
    "- il vous faudra convertir la sortie du réseau (tenseur) en numpy\n",
    "    - val_pred.detach().numpy()"
   ]
  },
  {
   "cell_type": "code",
   "execution_count": 8,
   "metadata": {},
   "outputs": [],
   "source": [
    "val_data = torch.from_numpy(val_img).float()\n",
    "val_pred = model(val_data)\n",
    "numpy_preds = val_pred.detach().numpy()\n"
   ]
  },
  {
   "cell_type": "code",
   "execution_count": 9,
   "metadata": {},
   "outputs": [
    {
     "data": {
      "text/plain": [
       "<sklearn.metrics._plot.confusion_matrix.ConfusionMatrixDisplay at 0x1b17f4734c0>"
      ]
     },
     "execution_count": 9,
     "metadata": {},
     "output_type": "execute_result"
    },
    {
     "data": {
      "image/png": "[encoded data removed]",
      "text/plain": [
       "<Figure size 432x288 with 2 Axes>"
      ]
     },
     "metadata": {
      "needs_background": "light"
     },
     "output_type": "display_data"
    }
   ],
   "source": [
    "from sklearn.metrics import confusion_matrix, ConfusionMatrixDisplay\n",
    "import numpy as np\n",
    "pred = np.argmax(numpy_preds, axis=-1)\n",
    "\n",
    "\n",
    "cm = confusion_matrix(val_lbl, pred)\n",
    "ConfusionMatrixDisplay(cm, display_labels=class_names).plot()\n"
   ]
  },
  {
   "cell_type": "markdown",
   "metadata": {},
   "source": [
    "## Next steps : améliorez le model"
   ]
  },
  {
   "cell_type": "markdown",
   "metadata": {},
   "source": [
    "- en augmentant sa capacité (nombre de couche, nombre de neurones par couche)\n",
    "- en jouant avec son temps et paramètres d'entrainement (epochs, taille de batch, taux d'apprentissage, ...)\n",
    "- son architecture (loss, fonction d'activation, ...)\n",
    "- en évitant le surapprentissage, par exemple en testant regulierement les performances de validation, et en s'arrétant si les performances de validations se mettent à diminuer"
   ]
  },
  {
   "cell_type": "code",
   "execution_count": null,
   "metadata": {},
   "outputs": [],
   "source": []
  }
 ],
 "metadata": {
  "kernelspec": {
   "display_name": "Python 3",
   "language": "python",
   "name": "python3"
  },
  "language_info": {
   "codemirror_mode": {
    "name": "ipython",
    "version": 3
   },
   "file_extension": ".py",
   "mimetype": "text/x-python",
   "name": "python",
   "nbconvert_exporter": "python",
   "pygments_lexer": "ipython3",
   "version": "3.8.12"
  }
 },
 "nbformat": 4,
 "nbformat_minor": 5
}
