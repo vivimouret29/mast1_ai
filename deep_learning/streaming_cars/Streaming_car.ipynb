{
 "cells": [
  {
   "cell_type": "markdown",
   "metadata": {},
   "source": [
    "# TP : Streaming Car"
   ]
  },
  {
   "cell_type": "markdown",
   "metadata": {},
   "source": [
    "## Exercice 1"
   ]
  },
  {
   "cell_type": "markdown",
   "metadata": {},
   "source": [
    "1. A partir de la vidéo fournie avec le tp , vous devrez extraire dans un premier streamer la vidéo en affichant chacune des frames (à l'aide d'openCV) durant les 10 premières secondes. Supprimez le reste de la vidéo. Sauvegardez les 10 premièeres secondes dans une nouvelle vidéo, vidéo que vous utiliserez tout le long du tp"
   ]
  },
  {
   "cell_type": "markdown",
   "metadata": {},
   "source": [
    "### Toutes les questions suivantes seront à traiter durant le stream de la vidéo enregistrée (20 secondes)"
   ]
  },
  {
   "cell_type": "markdown",
   "metadata": {},
   "source": [
    "2. Rescalez toutes les images au format 800 par 800 "
   ]
  },
  {
   "cell_type": "markdown",
   "metadata": {},
   "source": [
    "3. A l'aide de ce modèle (https://huggingface.co/facebook/detr-resnet-50), extrayez les voitures des vidéos et enregistrez les dans un dossier \"cars\""
   ]
  },
  {
   "cell_type": "markdown",
   "metadata": {},
   "source": [
    "4. Floutez au cours du streaming de la vidéo, les zones ou figurent des voitures"
   ]
  },
  {
   "cell_type": "markdown",
   "metadata": {},
   "source": [
    "5. Convertissez les images des voitures en gris"
   ]
  },
  {
   "cell_type": "markdown",
   "metadata": {},
   "source": [
    "6. Effectuez une détection de contours avec open cv"
   ]
  },
  {
   "cell_type": "markdown",
   "metadata": {},
   "source": [
    "6. Effectuez une détection de rectangles, en surlignant l'ensemble des rectangles en vert."
   ]
  },
  {
   "cell_type": "markdown",
   "metadata": {},
   "source": [
    "7. Extrayez chacun des rectangles dans un dossier spécifique"
   ]
  },
  {
   "cell_type": "markdown",
   "metadata": {},
   "source": [
    "8. En réutilisant le code des exercices précédents : \n",
    "    - floutez les zones ou figurent des voitures \n",
    "    - Calculez votre FPS pour la vidéo originales (1mn) lorsque vous streamez la vidéo, et "
   ]
  },
  {
   "cell_type": "markdown",
   "metadata": {},
   "source": [
    "## Bonus"
   ]
  },
  {
   "cell_type": "markdown",
   "metadata": {},
   "source": [
    "Appliquez votre code pour extraire la plaque d'immatriculation de cette image : https://images.unsplash.com/photo-1605559424843-9e4c228bf1c2?ixlib=rb-1.2.1&ixid=MnwxMjA3fDB8MHxzZWFyY2h8MTB8fGNhcnN8ZW58MHx8MHx8&w=1000&q=80\n",
    "A partir du rectangle de la plaque extraite, essayez de faire de l'OCR (vous pouvez utiliser Tesseract)"
   ]
  },
  {
   "cell_type": "code",
   "execution_count": null,
   "metadata": {},
   "outputs": [],
   "source": []
  }
 ],
 "metadata": {
  "kernelspec": {
   "display_name": "Python 3",
   "language": "python",
   "name": "python3"
  },
  "language_info": {
   "codemirror_mode": {
    "name": "ipython",
    "version": 3
   },
   "file_extension": ".py",
   "mimetype": "text/x-python",
   "name": "python",
   "nbconvert_exporter": "python",
   "pygments_lexer": "ipython3",
   "version": "3.8.12"
  }
 },
 "nbformat": 4,
 "nbformat_minor": 2
}
