{
 "cells": [
  {
   "cell_type": "code",
   "execution_count": 1,
   "id": "287fb369",
   "metadata": {},
   "outputs": [],
   "source": [
    "import numpy as np\n",
    "%matplotlib inline\n",
    "import matplotlib.pyplot as plt\n",
    "\n",
    "def generate_random_map(size, obstacle_chance):\n",
    "    return (np.random.randint(low=0, high=int(1/obstacle_chance)+1, size=(size,size),)*obstacle_chance).astype(int)\n"
   ]
  },
  {
   "cell_type": "code",
   "execution_count": 2,
   "id": "adecc549",
   "metadata": {},
   "outputs": [],
   "source": [
    "m = generate_random_map(10, 0.2)"
   ]
  },
  {
   "cell_type": "code",
   "execution_count": 3,
   "id": "63da09aa",
   "metadata": {},
   "outputs": [],
   "source": [
    "def plot_map(map, start, finish, agent_pos=None, visited=None):\n",
    "    m2 = map.copy()\n",
    "    m2[start] = 4\n",
    "    m2[finish] = 5\n",
    "    if agent_pos is not None:\n",
    "        m2[agent_pos] = 8\n",
    "    if visited is not None:\n",
    "        for case in visited:\n",
    "            m2[case] = 6\n",
    "    plt.imshow(m2)"
   ]
  },
  {
   "cell_type": "code",
   "execution_count": 4,
   "id": "f0914b01",
   "metadata": {},
   "outputs": [
    {
     "data": {
      "image/png": "[encoded data removed]",
      "text/plain": [
       "<Figure size 432x288 with 1 Axes>"
      ]
     },
     "metadata": {
      "needs_background": "light"
     },
     "output_type": "display_data"
    }
   ],
   "source": [
    "plot_map(m, start=(0,0), finish=(9,9), agent_pos = (2,1), visited=[(0,1),(1,1)])"
   ]
  },
  {
   "cell_type": "markdown",
   "id": "9b7aa60f",
   "metadata": {},
   "source": [
    "# Modifiez votre parcours en profondeur pour afficher le parcours de votre agent sur la map"
   ]
  },
  {
   "cell_type": "markdown",
   "id": "87af8d7e",
   "metadata": {},
   "source": [
    "- je vous aide : voici la fonction get_children, qui ne vous retournera que les cases adjacentes sans obstacle"
   ]
  },
  {
   "cell_type": "code",
   "execution_count": 5,
   "id": "b8ced904",
   "metadata": {},
   "outputs": [],
   "source": [
    "def get_children(m, pos):\n",
    "    children = []\n",
    "    x, y = pos\n",
    "    if x-1 >=0 and m[x-1,y]!=1:\n",
    "        children.append((x-1,y))\n",
    "    if x+1 < m.shape[0]  and m[x+1,y]!=1:\n",
    "        children.append((x+1,y))\n",
    "    if y-1 >=0 and m[x,y-1]!=1:\n",
    "        children.append((x,y-1))\n",
    "    if y+1 < m.shape[1]  and m[x,y+1]!=1:\n",
    "        children.append((x,y+1))\n",
    "    return children"
   ]
  },
  {
   "cell_type": "markdown",
   "id": "33ff0b04",
   "metadata": {},
   "source": [
    "Implémentez votre heuristique h"
   ]
  },
  {
   "cell_type": "code",
   "execution_count": 6,
   "id": "eb48eed7",
   "metadata": {},
   "outputs": [],
   "source": [
    "def h(pos, finish):\n",
    "    x,y = pos\n",
    "    x_f, y_f = finish\n",
    "    return abs(x-x_f)+ abs(y-y_f)"
   ]
  },
  {
   "cell_type": "code",
   "execution_count": 7,
   "id": "b087b781",
   "metadata": {},
   "outputs": [
    {
     "data": {
      "text/plain": [
       "18"
      ]
     },
     "execution_count": 7,
     "metadata": {},
     "output_type": "execute_result"
    }
   ],
   "source": [
    "h((0,0),(9,9))"
   ]
  },
  {
   "cell_type": "markdown",
   "id": "2400dd23",
   "metadata": {},
   "source": [
    "Implémentez maintenant l'algorithme a* à partir de votre parcour en profondeur et de votre heuristique h\n",
    "- indice : g peut être calculé comme g(fils) = g(pere)+1 si g(fils) n'a pas déjà été trouvé, sinon comme g(fils) = min(g(fils), g(pere)+1)"
   ]
  },
  {
   "cell_type": "code",
   "execution_count": 8,
   "id": "85969166",
   "metadata": {},
   "outputs": [],
   "source": [
    "import time\n",
    "def astar(m, start, finish):\n",
    "    visited = set()\n",
    "    to_visit = [start]\n",
    "    g = np.full(m.shape, m.size)\n",
    "    f = np.full(m.shape, m.size)\n",
    "    n_room_explored = 0\n",
    "    while len(to_visit)> 0:\n",
    "        node_visited = to_visit[0]\n",
    "        for i, node in enumerate(to_visit):\n",
    "            if f[node] < f[node_visited]:\n",
    "                node_visited = node\n",
    "                \n",
    "        to_visit.remove(node_visited)\n",
    "        n_room_explored += 1\n",
    "        children = get_children(m, node_visited)\n",
    "        visited.add(node_visited)\n",
    "        if finish in children:\n",
    "            print(\"Found the exit in \", n_room_explored, \" steps\")\n",
    "            plot_map(m, start=(0,0), finish=(9,9), visited=visited)\n",
    "            return n_room_explored\n",
    "        \n",
    "        new_nodes = [child for child in children if not (child in visited) \n",
    "                     and not (child in to_visit)]\n",
    "        \n",
    "        for child in children:\n",
    "            if not child in visited:\n",
    "                g[child] = min(g[node_visited]+1, g[child])\n",
    "                f[child] = g[child] + h(child, finish)\n",
    "        \n",
    "        to_visit += new_nodes\n",
    "        \n",
    "    print(\"exit not found\")"
   ]
  },
  {
   "cell_type": "code",
   "execution_count": 9,
   "id": "84113531",
   "metadata": {},
   "outputs": [
    {
     "name": "stdout",
     "output_type": "stream",
     "text": [
      "Found the exit in  20  steps\n"
     ]
    },
    {
     "data": {
      "text/plain": [
       "20"
      ]
     },
     "execution_count": 9,
     "metadata": {},
     "output_type": "execute_result"
    },
    {
     "data": {
      "image/png": "[encoded data removed]",
      "text/plain": [
       "<Figure size 432x288 with 1 Axes>"
      ]
     },
     "metadata": {
      "needs_background": "light"
     },
     "output_type": "display_data"
    }
   ],
   "source": [
    "astar(m, (0,0), (9,9))"
   ]
  },
  {
   "cell_type": "markdown",
   "id": "10684aa9",
   "metadata": {},
   "source": []
  },
  {
   "cell_type": "code",
   "execution_count": null,
   "id": "814d3a1c",
   "metadata": {},
   "outputs": [],
   "source": []
  }
 ],
 "metadata": {
  "kernelspec": {
   "display_name": "Python 3 (ipykernel)",
   "language": "python",
   "name": "python3"
  },
  "language_info": {
   "codemirror_mode": {
    "name": "ipython",
    "version": 3
   },
   "file_extension": ".py",
   "mimetype": "text/x-python",
   "name": "python",
   "nbconvert_exporter": "python",
   "pygments_lexer": "ipython3",
   "version": "3.8.12"
  }
 },
 "nbformat": 4,
 "nbformat_minor": 5
}
