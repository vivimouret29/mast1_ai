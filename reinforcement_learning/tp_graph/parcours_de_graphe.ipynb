{
 "cells": [
  {
   "cell_type": "markdown",
   "id": "9c389ab3",
   "metadata": {},
   "source": [
    "# Representations des graphes"
   ]
  },
  {
   "cell_type": "code",
   "execution_count": 1,
   "id": "2a63668f",
   "metadata": {},
   "outputs": [],
   "source": [
    "g = {\"A\":[\"B\",\"C\"], \"B\":[\"A\"], \"C\":[\"A\"]}"
   ]
  },
  {
   "cell_type": "markdown",
   "id": "2f7723bd",
   "metadata": {},
   "source": [
    "Répondez aux questions suivantes :\n",
    "- g est-il une représentation valide d'un graphe ? d'un arbre ?\n",
    "- quel est le degré du sommet \"A\" ? quel est le degré de g ?\n",
    "- g est-il cyclique ?\n",
    "- g est-il orienté ?\n",
    "- quel est la taille de la clique maximale de g ?"
   ]
  },
  {
   "cell_type": "markdown",
   "id": "7a83dda0",
   "metadata": {},
   "source": [
    "Représentez g sous forme de matrice d'adjacence :"
   ]
  },
  {
   "cell_type": "code",
   "execution_count": 2,
   "id": "e5baf37a",
   "metadata": {},
   "outputs": [
    {
     "data": {
      "text/plain": [
       "array([[0, 1, 1],\n",
       "       [1, 0, 0],\n",
       "       [1, 0, 0]])"
      ]
     },
     "execution_count": 2,
     "metadata": {},
     "output_type": "execute_result"
    }
   ],
   "source": [
    "import numpy as np\n",
    "g2 = np.array([[0,1,1],[1,0,0],[1,0,0]])\n",
    "g2"
   ]
  },
  {
   "cell_type": "markdown",
   "id": "b1d3dbc9",
   "metadata": {},
   "source": [
    "# Manipulation de graphe"
   ]
  },
  {
   "cell_type": "markdown",
   "id": "1f04bec7",
   "metadata": {},
   "source": [
    "pour chacune des représentation ci-dessus, écrivez la méthode get_children(g, n) retournant la liste des fils de n dans g"
   ]
  },
  {
   "cell_type": "code",
   "execution_count": 3,
   "id": "9db4f557",
   "metadata": {},
   "outputs": [],
   "source": [
    "def get_children(g, n):\n",
    "    if isinstance(g, dict):\n",
    "        return g[n]\n",
    "    else:\n",
    "        return list(np.where(g[n] >0)[0])"
   ]
  },
  {
   "cell_type": "code",
   "execution_count": 4,
   "id": "7643eb43",
   "metadata": {},
   "outputs": [
    {
     "data": {
      "text/plain": [
       "['B', 'C']"
      ]
     },
     "execution_count": 4,
     "metadata": {},
     "output_type": "execute_result"
    }
   ],
   "source": [
    "get_children(g,\"A\")"
   ]
  },
  {
   "cell_type": "code",
   "execution_count": 5,
   "id": "15fd2939",
   "metadata": {},
   "outputs": [
    {
     "data": {
      "text/plain": [
       "[1, 2]"
      ]
     },
     "execution_count": 5,
     "metadata": {},
     "output_type": "execute_result"
    }
   ],
   "source": [
    "get_children(g2, 0)"
   ]
  },
  {
   "cell_type": "markdown",
   "id": "967190b0",
   "metadata": {},
   "source": [
    "pour la representation de votre choix, coder les méthodes permettant:\n",
    "- d'ajouter un sommet\n",
    "- d'ajouter une arrete"
   ]
  },
  {
   "cell_type": "code",
   "execution_count": 6,
   "id": "b2370310",
   "metadata": {},
   "outputs": [],
   "source": [
    "def add_node(g, n):\n",
    "    if isinstance(g, dict):\n",
    "        g[n] = []\n",
    "        return g\n",
    "    else:\n",
    "        g2 = np.zeros((n, n))\n",
    "        g2[:-1, :-1] = g\n",
    "        return g2\n",
    "        "
   ]
  },
  {
   "cell_type": "code",
   "execution_count": 7,
   "id": "78bc1a60",
   "metadata": {},
   "outputs": [
    {
     "data": {
      "text/plain": [
       "{'A': ['B', 'C'], 'B': ['A'], 'C': ['A'], 'D': []}"
      ]
     },
     "execution_count": 7,
     "metadata": {},
     "output_type": "execute_result"
    }
   ],
   "source": [
    "add_node(g, \"D\")"
   ]
  },
  {
   "cell_type": "code",
   "execution_count": 8,
   "id": "5bf95ca5",
   "metadata": {},
   "outputs": [
    {
     "data": {
      "text/plain": [
       "array([[0., 1., 1., 0.],\n",
       "       [1., 0., 0., 0.],\n",
       "       [1., 0., 0., 0.],\n",
       "       [0., 0., 0., 0.]])"
      ]
     },
     "execution_count": 8,
     "metadata": {},
     "output_type": "execute_result"
    }
   ],
   "source": [
    "g2 = add_node(g2, 4)\n",
    "g2"
   ]
  },
  {
   "cell_type": "code",
   "execution_count": 9,
   "id": "77ca5fdf",
   "metadata": {},
   "outputs": [],
   "source": [
    "def add_edge(g, n1, n2):\n",
    "    if isinstance(g, dict):\n",
    "        if n2 not in g[n1]:\n",
    "            g[n1].append(n2)\n",
    "    else:\n",
    "        g[n1, n2] = 1"
   ]
  },
  {
   "cell_type": "code",
   "execution_count": 10,
   "id": "0b979d77",
   "metadata": {},
   "outputs": [
    {
     "data": {
      "text/plain": [
       "{'A': ['B', 'C', 'D'], 'B': ['A'], 'C': ['A'], 'D': []}"
      ]
     },
     "execution_count": 10,
     "metadata": {},
     "output_type": "execute_result"
    }
   ],
   "source": [
    "add_edge(g, 'A', 'D')\n",
    "g"
   ]
  },
  {
   "cell_type": "code",
   "execution_count": 11,
   "id": "91b9ced1",
   "metadata": {},
   "outputs": [
    {
     "data": {
      "text/plain": [
       "array([[0., 1., 1., 1.],\n",
       "       [1., 0., 0., 0.],\n",
       "       [1., 0., 0., 0.],\n",
       "       [0., 0., 0., 0.]])"
      ]
     },
     "execution_count": 11,
     "metadata": {},
     "output_type": "execute_result"
    }
   ],
   "source": [
    "add_edge(g2, 0, 3)\n",
    "g2"
   ]
  },
  {
   "cell_type": "markdown",
   "id": "625e394a",
   "metadata": {},
   "source": [
    "# Parcours en largeur et en profondeur"
   ]
  },
  {
   "cell_type": "markdown",
   "id": "be70becb",
   "metadata": {},
   "source": [
    "Votre robot cherche à parcourir un labyrinthe décrit par un graphe orienté pouvant être cyclique (vous pouvez tourner en rond si vous parcourez \"naivement\")\n",
    "- quel est le type de parcours adapté pour résoudre ce problème ?\n",
    "- Implémentez la méthode find_exit(g, start, finish), ou g est un graphe, start la case de départ et f celle d'arrivée, permettant de trouver à coup sur la sortie.\n",
    "- utiliser la representation par matrie d'adjacence pour pouvoir le tester avec la méthode proposée ci-dessous\n",
    "- astuce : si vous utiliser la methode get_child définie plus haut, vous n'avez pas besoin de reflechir au type de graphe que vous manipulez !\n",
    "- conseil : ne l'implémentez pas de manière récursive, une boucle suffit (et sera plus simple à debugguer !)"
   ]
  },
  {
   "cell_type": "code",
   "execution_count": 12,
   "id": "90b548f3",
   "metadata": {},
   "outputs": [
    {
     "name": "stdout",
     "output_type": "stream",
     "text": [
      "visiting sommet  A\n",
      "Found the exit\n"
     ]
    }
   ],
   "source": [
    "def find_exit(g, start, finish):\n",
    "    visited = set()\n",
    "    to_visit = [start]\n",
    "    \n",
    "    while len(to_visit)> 0:\n",
    "        node_visited = to_visit.pop(-1)  # visite et enleve le dernier element\n",
    "        \n",
    "        print(\"visiting sommet \", node_visited)\n",
    "        children = get_children(g, node_visited)\n",
    "        if finish in children:\n",
    "            print(\"Found the exit\")\n",
    "            return \n",
    "        \n",
    "        new_nodes = [child for child in children if not (child in visited) \n",
    "                     and not (child in to_visit)]\n",
    "        to_visit += new_nodes\n",
    "        \n",
    "        visited.add(node_visited)\n",
    "    print(\"exit not found\")\n",
    "find_exit(g, \"A\", \"D\")"
   ]
  },
  {
   "cell_type": "code",
   "execution_count": 13,
   "id": "1cd6b37a",
   "metadata": {},
   "outputs": [
    {
     "name": "stdout",
     "output_type": "stream",
     "text": [
      "visiting sommet  0\n",
      "visiting sommet  94\n",
      "visiting sommet  95\n",
      "visiting sommet  86\n",
      "visiting sommet  74\n",
      "visiting sommet  92\n",
      "visiting sommet  93\n",
      "visiting sommet  82\n",
      "visiting sommet  48\n",
      "visiting sommet  83\n",
      "visiting sommet  39\n",
      "visiting sommet  90\n",
      "visiting sommet  97\n",
      "visiting sommet  23\n",
      "visiting sommet  53\n",
      "visiting sommet  91\n",
      "Found the exit\n"
     ]
    }
   ],
   "source": [
    "def generate_random_graph(n_sommet, edge_chance):\n",
    "    return (np.random.randint(low=0, high=int(1/edge_chance)+1, size=(n_sommet,n_sommet),)*edge_chance).astype(int)\n",
    "\n",
    "g_rand = generate_random_graph(100, 0.05)\n",
    "\n",
    "find_exit(g_rand, 0, 99)"
   ]
  },
  {
   "cell_type": "markdown",
   "id": "d2d6619f",
   "metadata": {},
   "source": [
    "Imaginez maintenant que votre graphe représente une suite d'état aux echecs, et que vous souhaitiez\n",
    "trouver l'état permettant de gagner le plus vite possible.\n",
    "- quelles conditions cela à il sur le nombre de sommets de sortie possible ?\n",
    "- implémentez le parcours vous permettant de trouver la réponse le plus rapidement possible\n",
    "- astuce: passer d'un parcours en profondeur à un parcours en largeur ne demande que de changer une ligne de code !"
   ]
  },
  {
   "cell_type": "code",
   "execution_count": 14,
   "id": "6d77034f",
   "metadata": {},
   "outputs": [],
   "source": [
    "def find_shortest_win(g, start, win_list):\n",
    "    visited = set()\n",
    "    to_visit = [start]\n",
    "    n_room_explored = 0\n",
    "    while len(to_visit)> 0:\n",
    "        \n",
    "        node_visited = to_visit.pop(0)  # visite et enleve le dernier element\n",
    "        n_room_explored += 1\n",
    "        print(\"visiting sommet \", node_visited)\n",
    "        children = get_children(g, node_visited)\n",
    "        for child in children:\n",
    "            if child in win_list:\n",
    "                print(\"Found the winning state \",child, \" in \", n_room_explored, \" steps\")\n",
    "                return child\n",
    "        new_nodes = [child for child in children if not (child in visited) \n",
    "                     and not (child in to_visit)]\n",
    "        to_visit += new_nodes\n",
    "        visited.add(node_visited)\n",
    "    print(\"No way to win found\")"
   ]
  },
  {
   "cell_type": "code",
   "execution_count": 15,
   "id": "daeda76c",
   "metadata": {},
   "outputs": [
    {
     "name": "stdout",
     "output_type": "stream",
     "text": [
      "visiting sommet  0\n",
      "visiting sommet  14\n",
      "visiting sommet  26\n",
      "visiting sommet  36\n",
      "Found the winning state  3  in  4  steps\n"
     ]
    },
    {
     "data": {
      "text/plain": [
       "3"
      ]
     },
     "execution_count": 15,
     "metadata": {},
     "output_type": "execute_result"
    }
   ],
   "source": [
    "find_shortest_win(g_rand, 0, [5, 3, 99])"
   ]
  },
  {
   "cell_type": "code",
   "execution_count": null,
   "id": "ae9dec50",
   "metadata": {},
   "outputs": [],
   "source": []
  }
 ],
 "metadata": {
  "kernelspec": {
   "display_name": "Python 3 (ipykernel)",
   "language": "python",
   "name": "python3"
  },
  "language_info": {
   "codemirror_mode": {
    "name": "ipython",
    "version": 3
   },
   "file_extension": ".py",
   "mimetype": "text/x-python",
   "name": "python",
   "nbconvert_exporter": "python",
   "pygments_lexer": "ipython3",
   "version": "3.8.12"
  }
 },
 "nbformat": 4,
 "nbformat_minor": 5
}
