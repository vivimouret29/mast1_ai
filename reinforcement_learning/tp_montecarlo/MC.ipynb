{
 "cells": [
  {
   "cell_type": "code",
   "execution_count": 17,
   "metadata": {
    "tags": []
   },
   "outputs": [],
   "source": [
    "# Adapted from: https://github.com/lazyprogrammer/machine_learning_examples/tree/master/rl\n",
    "# the Monte Carlo Exploring-Starts method to find the optimal policy\n",
    "import numpy as np\n",
    "import matplotlib.pyplot as plt\n",
    "from helper import *\n",
    "from helper.gridWorldGame import standard_grid, negative_grid,print_values, print_policy\n",
    "\n",
    "SMALL_ENOUGH = 1e-3\n",
    "GAMMA = 0.9\n",
    "ALL_POSSIBLE_ACTIONS = ('U', 'D', 'L', 'R')"
   ]
  },
  {
   "cell_type": "markdown",
   "metadata": {},
   "source": [
    "## Initialisation des reward"
   ]
  },
  {
   "cell_type": "code",
   "execution_count": 18,
   "metadata": {},
   "outputs": [],
   "source": [
    "# rewards:\n",
    "# ---------------------------\n",
    "# -0.90|-0.90|-0.90| 1.00|\n",
    "# ---------------------------\n",
    "# -0.90| 0.00|-0.90|-1.00|\n",
    "# ---------------------------\n",
    "# -0.90|-0.90|-0.90|-0.90|"
   ]
  },
  {
   "cell_type": "markdown",
   "metadata": {},
   "source": [
    "\n",
    "Comme on peut le voir, le personnage sera initialisé en case [1,1] et devra finir sur la case en haut à droite. Juste en dessous de cette case figure un piège. Nous allons voir comment trouver une policy optimale en utilisant les méthodes de monte Carlo"
   ]
  },
  {
   "cell_type": "code",
   "execution_count": 19,
   "metadata": {},
   "outputs": [
    {
     "name": "stdout",
     "output_type": "stream",
     "text": [
      "rewards:\n",
      "---------------------------\n",
      "-0.90|-0.90|-0.90| 1.00|\n",
      "---------------------------\n",
      "-0.90| 0.00|-0.90|-1.00|\n",
      "---------------------------\n",
      "-0.90|-0.90|-0.90|-0.90|\n"
     ]
    }
   ],
   "source": [
    "grid = negative_grid(step_cost=-0.9)\n",
    "# print rewards\n",
    "print(\"rewards:\")\n",
    "print_values(grid.rewards, grid)"
   ]
  },
  {
   "cell_type": "markdown",
   "metadata": {},
   "source": []
  },
  {
   "cell_type": "markdown",
   "metadata": {},
   "source": [
    "# Définition du jeu"
   ]
  },
  {
   "cell_type": "code",
   "execution_count": 20,
   "metadata": {},
   "outputs": [],
   "source": [
    "def play_game(grid, policy):\n",
    "  # returns a list of states and corresponding returns\n",
    "  # we have a deterministic policy\n",
    "  # we would never end up at certain states, but we still want to measure their value\n",
    "  # this is called the \"exploring starts\" method\n",
    "  start_states = list(grid.actions.keys())\n",
    "  start_idx = np.random.choice(len(start_states))\n",
    "  grid.set_state(start_states[start_idx])\n",
    "\n",
    "  s = grid.current_state()\n",
    "  a = np.random.choice(ALL_POSSIBLE_ACTIONS) # first action is uniformly random\n",
    "\n",
    "  # each triple s(t), a(t), r(t)\n",
    "  # but r(t) results from taking action a(t-1) from s(t-1) and landing in s(t)\n",
    "  states_actions_rewards = [(s, a, 0)]\n",
    "  seen_states = set()\n",
    "  seen_states.add(grid.current_state())\n",
    "  num_steps = 0\n",
    "  while True:\n",
    "    r = grid.move(a)\n",
    "    num_steps += 1\n",
    "    s = grid.current_state()\n",
    "\n",
    "    if s in seen_states:\n",
    "      # we don't end up in an infinitely long episode\n",
    "      # bumping into the wall repeatedly\n",
    "      reward = -10. / num_steps\n",
    "      states_actions_rewards.append((s, None, reward))\n",
    "      break\n",
    "    elif grid.game_over():\n",
    "      states_actions_rewards.append((s, None, r))\n",
    "      break\n",
    "    else:\n",
    "      a = policy[s]\n",
    "      states_actions_rewards.append((s, a, r))\n",
    "    seen_states.add(s)\n",
    "\n",
    "  # calculate the returns by working backwards from the terminal state\n",
    "  G = 0\n",
    "  states_actions_returns = []\n",
    "  first = True\n",
    "  for s, a, r in reversed(states_actions_rewards):\n",
    "    # the value of the terminal state is 0 by definition\n",
    "    # we should ignore the first state we encounter\n",
    "    # and ignore the last G, which is meaningless since it doesn't correspond to any move\n",
    "    if first:\n",
    "      first = False\n",
    "    else:\n",
    "      states_actions_returns.append((s, a, G))\n",
    "    G = r + GAMMA*G\n",
    "  states_actions_returns.reverse() # we want it to be in order of state visited\n",
    "  return states_actions_returns"
   ]
  },
  {
   "cell_type": "code",
   "execution_count": 21,
   "metadata": {},
   "outputs": [],
   "source": [
    "def max_dict(d):\n",
    "  # returns the argmax (key) and max (value) from a dictionary\n",
    "  max_key = None\n",
    "  max_val = float('-inf')\n",
    "  for k, v in d.items():\n",
    "    if v > max_val:\n",
    "      max_val = v\n",
    "      max_key = k\n",
    "  return max_key, max_val"
   ]
  },
  {
   "cell_type": "markdown",
   "metadata": {},
   "source": [
    "### Initialisation d'une policy aléatoire:"
   ]
  },
  {
   "cell_type": "code",
   "execution_count": 22,
   "metadata": {},
   "outputs": [
    {
     "name": "stdout",
     "output_type": "stream",
     "text": [
      "initial policy:\n",
      "---------------------------\n",
      "  L  |  D  |  D  |     |\n",
      "---------------------------\n",
      "  D  |     |  U  |     |\n",
      "---------------------------\n",
      "  L  |  D  |  U  |  R  |\n"
     ]
    }
   ],
   "source": [
    "# state -> action\n",
    "# initialize a random policy\n",
    "policy = {}\n",
    "for s in grid.actions.keys():\n",
    "  policy[s] = np.random.choice(ALL_POSSIBLE_ACTIONS) #Initialisez la policy en affectant une action aléaoire : ALL_POSSIBLE_ACTIONS\n",
    "\n",
    "# initial policy\n",
    "print(\"initial policy:\")\n",
    "print_policy(policy, grid)"
   ]
  },
  {
   "cell_type": "markdown",
   "metadata": {},
   "source": [
    "Voici la liste des actions disponibles pour tous les states : "
   ]
  },
  {
   "cell_type": "code",
   "execution_count": 23,
   "metadata": {},
   "outputs": [
    {
     "data": {
      "text/plain": [
       "{(0, 0): ('D', 'R'),\n",
       " (0, 1): ('L', 'R'),\n",
       " (0, 2): ('L', 'D', 'R'),\n",
       " (1, 0): ('U', 'D'),\n",
       " (1, 2): ('U', 'D', 'R'),\n",
       " (2, 0): ('U', 'R'),\n",
       " (2, 1): ('L', 'R'),\n",
       " (2, 2): ('L', 'R', 'U'),\n",
       " (2, 3): ('L', 'U')}"
      ]
     },
     "execution_count": 23,
     "metadata": {},
     "output_type": "execute_result"
    }
   ],
   "source": [
    "grid.actions"
   ]
  },
  {
   "cell_type": "markdown",
   "metadata": {},
   "source": [
    "### Initialisation de Q(S,A) avec la valeure 0"
   ]
  },
  {
   "cell_type": "code",
   "execution_count": 24,
   "metadata": {},
   "outputs": [
    {
     "data": {
      "text/plain": [
       "{(0, 1): {'U': 0, 'D': 0, 'L': 0, 'R': 0},\n",
       " (1, 2): {'U': 0, 'D': 0, 'L': 0, 'R': 0},\n",
       " (2, 1): {'U': 0, 'D': 0, 'L': 0, 'R': 0},\n",
       " (0, 2): {'U': 0, 'D': 0, 'L': 0, 'R': 0},\n",
       " (2, 2): {'U': 0, 'D': 0, 'L': 0, 'R': 0},\n",
       " (1, 0): {'U': 0, 'D': 0, 'L': 0, 'R': 0},\n",
       " (0, 0): {'U': 0, 'D': 0, 'L': 0, 'R': 0},\n",
       " (2, 0): {'U': 0, 'D': 0, 'L': 0, 'R': 0},\n",
       " (2, 3): {'U': 0, 'D': 0, 'L': 0, 'R': 0}}"
      ]
     },
     "execution_count": 24,
     "metadata": {},
     "output_type": "execute_result"
    }
   ],
   "source": [
    "# initialize Q(s,a) and returns\n",
    "Q = {}\n",
    "returns = {} # dictionary of state -> list of returns we've received\n",
    "states = grid.all_states()\n",
    "for s in states:\n",
    "  if s in grid.actions: # not a terminal state\n",
    "    Q[s] = {}\n",
    "    for a in ALL_POSSIBLE_ACTIONS:\n",
    "      Q[s][a] = 0\n",
    "      returns[(s,a)] = []\n",
    "  else:\n",
    "    # terminal state or state we can't otherwise get to\n",
    "    pass\n",
    "\n",
    "# initial Q values for all states in grid\n",
    "Q"
   ]
  },
  {
   "cell_type": "markdown",
   "metadata": {},
   "source": [
    "# Monte Carlo"
   ]
  },
  {
   "cell_type": "markdown",
   "metadata": {},
   "source": [
    "Comme nous avons vu en cours, nous allons parcourir les chemins de manière aléatoire, puis nous nous souviendrons des chemins parcourus et des réponses obtenues pour mettre à jour notre policy"
   ]
  },
  {
   "cell_type": "code",
   "execution_count": 25,
   "metadata": {},
   "outputs": [],
   "source": [
    "# Voici la logique à implémenter :\n",
    "\n",
    "# pour chaque épisode:\n",
    "#     jouer au jeu avec la policy actuelle et récupérer la liste des coups joués\n",
    "#     Pour toutes les actions jouées:\n",
    "#         si le couple (state,action) n' a pas été déjà vu:\n",
    "#             ajouter au dict \"returns\" la récompense obtenue du run joué précédemment\n",
    "#             Affecter à Q(s,a) la moyenne des récompenses obtenues par le couple (s,a)\n",
    "    \n",
    "#     Mettre à jour la policy "
   ]
  },
  {
   "cell_type": "code",
   "execution_count": 28,
   "metadata": {},
   "outputs": [],
   "source": [
    "# repeat until convergence\n",
    "\n",
    "def monte_carlo(nb_episode, policy, grid, returns, Q):\n",
    "    deltas = []\n",
    "    for t in range(nb_episode):\n",
    "      # generate an episode using pi\n",
    "      biggest_change = 0\n",
    "      states_actions_returns = play_game(grid, policy)\n",
    "      seen_state_action_pairs = set()\n",
    "      for s, a, G in states_actions_returns:\n",
    "        # check if we have already seen s\n",
    "        # called \"first-visit\" MC policy evaluation\n",
    "        sa = (s, a)\n",
    "        if sa not in seen_state_action_pairs:\n",
    "          old_q = Q[s][a]\n",
    "          #AJOUTER LA RECOMPENSE à \"returns\"\n",
    "          returns[sa].append(G)\n",
    "          Q[s][a] = np.mean(returns[sa])\n",
    "          biggest_change = max(biggest_change, np.abs(old_q - Q[s][a]))\n",
    "          seen_state_action_pairs.add(sa)\n",
    "      deltas.append(biggest_change)\n",
    "\n",
    "      # update policy : on-policy\n",
    "      for s in policy.keys():\n",
    "        policy[s] = max_dict(Q[s])[0]\n",
    "    return policy, deltas"
   ]
  },
  {
   "cell_type": "markdown",
   "metadata": {},
   "source": [
    "# Lancez des runs en variant le nombre d'épisode."
   ]
  },
  {
   "cell_type": "code",
   "execution_count": 29,
   "metadata": {},
   "outputs": [
    {
     "data": {
      "image/png": "[encoded data removed]",
      "text/plain": [
       "<Figure size 432x288 with 1 Axes>"
      ]
     },
     "metadata": {
      "needs_background": "light"
     },
     "output_type": "display_data"
    },
    {
     "name": "stdout",
     "output_type": "stream",
     "text": [
      "final policy:\n",
      "---------------------------\n",
      "  U  |  R  |  R  |     |\n",
      "---------------------------\n",
      "  U  |     |  R  |     |\n",
      "---------------------------\n",
      "  R  |  R  |  R  |  U  |\n"
     ]
    }
   ],
   "source": [
    "\n",
    "nb_episode = 40\n",
    "policy,deltas = monte_carlo(nb_episode, policy, grid, returns, Q)\n",
    "plt.plot(deltas)\n",
    "plt.show()\n",
    "\n",
    "print(\"final policy:\")\n",
    "print_policy(policy, grid)"
   ]
  },
  {
   "cell_type": "markdown",
   "metadata": {},
   "source": [
    "## Affichons maintenant la value finale obtenue : "
   ]
  },
  {
   "cell_type": "code",
   "execution_count": 30,
   "metadata": {},
   "outputs": [
    {
     "name": "stdout",
     "output_type": "stream",
     "text": [
      "final values:\n",
      "---------------------------\n",
      "-3.75| 0.00| 1.00| 0.00|\n",
      "---------------------------\n",
      "-4.15| 0.00|-1.00| 0.00|\n",
      "---------------------------\n",
      "-3.96|-2.76|-2.38|-1.00|\n"
     ]
    }
   ],
   "source": [
    "# find V\n",
    "V = {}\n",
    "for s, Qs in Q.items():\n",
    "  V[s] = max_dict(Q[s])[1]\n",
    "\n",
    "print(\"final values:\")\n",
    "print_values(V, grid)"
   ]
  },
  {
   "cell_type": "code",
   "execution_count": 31,
   "metadata": {},
   "outputs": [
    {
     "data": {
      "text/plain": [
       "{(0, 1): {'U': -8.75, 'D': -5.0, 'L': -5.0, 'R': 0.0},\n",
       " (1, 2): {'U': -3.15, 'D': -4.0725, 'L': -10.0, 'R': -1.0},\n",
       " (2, 1): {'U': -10.0, 'D': -10.0, 'L': -5.1723, 'R': -2.7589999999999995},\n",
       " (0, 2): {'U': -6.25, 'D': -4.2615, 'L': -5.4, 'R': 1.0},\n",
       " (2, 2): {'U': -3.735, 'D': -10.0, 'L': -3.15, 'R': -2.3750000000000004},\n",
       " (1, 0): {'U': -4.1499999999999995,\n",
       "  'D': -4.217066666666667,\n",
       "  'L': -10.0,\n",
       "  'R': -10.0},\n",
       " (0, 0): {'U': -3.75, 'D': -4.34304, 'L': -6.666666666666667, 'R': -5.4},\n",
       " (2, 0): {'U': -4.515,\n",
       "  'D': -4.166666666666667,\n",
       "  'L': -5.0,\n",
       "  'R': -3.9609166666666664},\n",
       " (2, 3): {'U': -1.0, 'D': -2.5, 'L': -4.2615, 'R': -3.3333333333333335}}"
      ]
     },
     "execution_count": 31,
     "metadata": {},
     "output_type": "execute_result"
    }
   ],
   "source": [
    "Q"
   ]
  },
  {
   "cell_type": "markdown",
   "metadata": {},
   "source": [
    "### Implémentez maintenant la logique Epsilon greedy !"
   ]
  },
  {
   "cell_type": "markdown",
   "metadata": {},
   "source": [
    "Pour ce faire vous pouvez vous aider de ce notebook en identifiant les modifications de code à effectuer : https://github.com/omerbsezer/Reinforcement_learning_tutorial_with_demo/blob/master/monte_carlo_epsilon_greedy_demo.ipynb"
   ]
  }
 ],
 "metadata": {
  "interpreter": {
   "hash": "0d36b1024f4854ed1bc7aee6b8e0d5bbafe4479b328b636d4212d10594cd9b26"
  },
  "kernelspec": {
   "display_name": "Python 3.8.12 64-bit ('reinf_lear': conda)",
   "name": "python3"
  },
  "language_info": {
   "codemirror_mode": {
    "name": "ipython",
    "version": 3
   },
   "file_extension": ".py",
   "mimetype": "text/x-python",
   "name": "python",
   "nbconvert_exporter": "python",
   "pygments_lexer": "ipython3",
   "version": "3.8.12"
  }
 },
 "nbformat": 4,
 "nbformat_minor": 4
}
