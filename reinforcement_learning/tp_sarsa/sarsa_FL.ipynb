{
 "cells": [
  {
   "cell_type": "markdown",
   "metadata": {},
   "source": [
    "# SARSA Frozen Lake"
   ]
  },
  {
   "cell_type": "code",
   "execution_count": 138,
   "metadata": {},
   "outputs": [],
   "source": [
    "# define path\n",
    "RESULT_IMG_PATH = 'img/result_img_{}.png'"
   ]
  },
  {
   "cell_type": "code",
   "execution_count": 139,
   "metadata": {},
   "outputs": [],
   "source": [
    "# import dependency\n",
    "import gym # OpenAI Game Environment\n",
    "import gym.envs.toy_text # Customized Map\n",
    "import numpy as np\n",
    "from tqdm import trange # Processing Bar\n",
    "import matplotlib.pyplot as plt\n",
    "%matplotlib inline"
   ]
  },
  {
   "cell_type": "markdown",
   "metadata": {},
   "source": [
    "## Problem - Frozen Lake"
   ]
  },
  {
   "cell_type": "markdown",
   "metadata": {},
   "source": [
    "[Frozen Lake](https://gym.openai.com/envs/FrozenLake-v0/)  est un environnement dans lequel un agent est capable de déplacer un personnage dans un monde en grille. En partant de l'état S, l'agent cherche à déplacer le personnage vers l'état cible G pour une récompense de 1. Bien que l'agent puisse choisir l'une des quatre actions possibles à chaque état (gauche, bas, droite, haut), il ne réussit que 13 fois en raison de l'état glissant F. L'agent est susceptible de se déplacer dans n'importe quelle autre direction les 23 fois restantes. De plus, si l'agent se trouve dans un état de trou H, l'agent a perdu et obtient une récompense  de 0.\n",
    "\n",
    "\n",
    "+ S: Start State\n",
    "+ G: Goal State\n",
    "+ F: Frozen Surface\n",
    "+ H: Hole State\n",
    "\n",
    "![Frozen Lake](https://launchyourintelligentapphome.files.wordpress.com/2019/05/frozenlake_legended.png?w=531)"
   ]
  },
  {
   "cell_type": "markdown",
   "metadata": {},
   "source": [
    "L'espace d'action est un espace discret de taille 4. C'est-à-dire qu'il a 4 valeurs distinctes (0, 1, 2 et 3). Les nombres correspondent à l'action suivante :\n",
    "- 0 : gauche,\n",
    "- 1 : bas,\n",
    "- 2 : droite,\n",
    "- 3 : haut. \n"
   ]
  },
  {
   "cell_type": "code",
   "execution_count": 140,
   "metadata": {},
   "outputs": [
    {
     "name": "stdout",
     "output_type": "stream",
     "text": [
      "16 states\n",
      "4 actions\n",
      "\n",
      "\u001b[41mS\u001b[0mFFF\n",
      "FHFH\n",
      "FFFH\n",
      "HFFG\n"
     ]
    }
   ],
   "source": [
    "# initialization\n",
    "env = gym.make('FrozenLake-v1') # avec transitions\n",
    "# env = gym.make('FrozenLake-v1', is_slippery=False) # sans transitions\n",
    "\n",
    "n_states, n_actions = env.observation_space.n, env.action_space.n\n",
    "print('{} states'.format(n_states))\n",
    "print('{} actions'.format(n_actions))\n",
    "env.render()    "
   ]
  },
  {
   "cell_type": "code",
   "execution_count": 141,
   "metadata": {},
   "outputs": [
    {
     "name": "stdout",
     "output_type": "stream",
     "text": [
      "  (Down)\n",
      "S\u001b[41mF\u001b[0mFF\n",
      "FHFH\n",
      "FFFH\n",
      "HFFG\n",
      "  (Right)\n",
      "S\u001b[41mF\u001b[0mFF\n",
      "FHFH\n",
      "FFFH\n",
      "HFFG\n",
      "  (Down)\n",
      "SFFF\n",
      "F\u001b[41mH\u001b[0mFH\n",
      "FFFH\n",
      "HFFG\n",
      "3\n"
     ]
    }
   ],
   "source": [
    "# take a look\n",
    "done = False\n",
    "env.reset()\n",
    "run = 0\n",
    "while not done:\n",
    "    # randomly pick an action\n",
    "    action = np.random.randint(n_actions)\n",
    "    # get feedback from the environment\n",
    "    obvervation, reward, done, info = env.step(action)\n",
    "    # show the environment\n",
    "    env.render()\n",
    "    run = run + 1\n",
    "print(run)"
   ]
  },
  {
   "cell_type": "markdown",
   "metadata": {},
   "source": [
    "### Probabilité de transitions\n",
    "Le frozen lake est un environnement particulier ou votre agent a une probabilité de glisser à chaque action est de se retrouver dans un état qu'il ne souhaitait pas être à l'origine.\n",
    "Uniquement pour vous donner une idée, voici ces probabilités (que votre modèle ne connait pas) : \n",
    "    "
   ]
  },
  {
   "cell_type": "code",
   "execution_count": 142,
   "metadata": {},
   "outputs": [
    {
     "data": {
      "text/plain": [
       "{0: [(0.3333333333333333, 0, 0.0, False),\n",
       "  (0.3333333333333333, 0, 0.0, False),\n",
       "  (0.3333333333333333, 4, 0.0, False)],\n",
       " 1: [(0.3333333333333333, 0, 0.0, False),\n",
       "  (0.3333333333333333, 4, 0.0, False),\n",
       "  (0.3333333333333333, 1, 0.0, False)],\n",
       " 2: [(0.3333333333333333, 4, 0.0, False),\n",
       "  (0.3333333333333333, 1, 0.0, False),\n",
       "  (0.3333333333333333, 0, 0.0, False)],\n",
       " 3: [(0.3333333333333333, 1, 0.0, False),\n",
       "  (0.3333333333333333, 0, 0.0, False),\n",
       "  (0.3333333333333333, 0, 0.0, False)]}"
      ]
     },
     "execution_count": 142,
     "metadata": {},
     "output_type": "execute_result"
    }
   ],
   "source": [
    "(env.env.P[0])"
   ]
  },
  {
   "cell_type": "markdown",
   "metadata": {},
   "source": [
    "Ici, comme vous pouvez le deviner, les clés du dictionnaire 0,1,2,3 sont les actions que nous pouvons énoncer à partir de l'état 0. De plus, chaque action contient une liste, où chaque élément de la liste est un tuple indiquant la probabilité de transition vers l'état, l'état suivant, la récompense et si done=True done=False. (done=True si le prochain état est un Trou ou le But). Ainsi, env.P est une liste contenant tous les états où chaque état contient un dictionnaire qui met en correspondance toutes les actions possibles de cet état avec l'état suivant si nous prenons cette action, la probabilité d'entrer dans l'état suivant, la récompense et si le jeu se termine là ou non."
   ]
  },
  {
   "cell_type": "code",
   "execution_count": 143,
   "metadata": {},
   "outputs": [
    {
     "data": {
      "text/plain": [
       "{0: {0: [(0.3333333333333333, 0, 0.0, False),\n",
       "   (0.3333333333333333, 0, 0.0, False),\n",
       "   (0.3333333333333333, 4, 0.0, False)],\n",
       "  1: [(0.3333333333333333, 0, 0.0, False),\n",
       "   (0.3333333333333333, 4, 0.0, False),\n",
       "   (0.3333333333333333, 1, 0.0, False)],\n",
       "  2: [(0.3333333333333333, 4, 0.0, False),\n",
       "   (0.3333333333333333, 1, 0.0, False),\n",
       "   (0.3333333333333333, 0, 0.0, False)],\n",
       "  3: [(0.3333333333333333, 1, 0.0, False),\n",
       "   (0.3333333333333333, 0, 0.0, False),\n",
       "   (0.3333333333333333, 0, 0.0, False)]},\n",
       " 1: {0: [(0.3333333333333333, 1, 0.0, False),\n",
       "   (0.3333333333333333, 0, 0.0, False),\n",
       "   (0.3333333333333333, 5, 0.0, True)],\n",
       "  1: [(0.3333333333333333, 0, 0.0, False),\n",
       "   (0.3333333333333333, 5, 0.0, True),\n",
       "   (0.3333333333333333, 2, 0.0, False)],\n",
       "  2: [(0.3333333333333333, 5, 0.0, True),\n",
       "   (0.3333333333333333, 2, 0.0, False),\n",
       "   (0.3333333333333333, 1, 0.0, False)],\n",
       "  3: [(0.3333333333333333, 2, 0.0, False),\n",
       "   (0.3333333333333333, 1, 0.0, False),\n",
       "   (0.3333333333333333, 0, 0.0, False)]},\n",
       " 2: {0: [(0.3333333333333333, 2, 0.0, False),\n",
       "   (0.3333333333333333, 1, 0.0, False),\n",
       "   (0.3333333333333333, 6, 0.0, False)],\n",
       "  1: [(0.3333333333333333, 1, 0.0, False),\n",
       "   (0.3333333333333333, 6, 0.0, False),\n",
       "   (0.3333333333333333, 3, 0.0, False)],\n",
       "  2: [(0.3333333333333333, 6, 0.0, False),\n",
       "   (0.3333333333333333, 3, 0.0, False),\n",
       "   (0.3333333333333333, 2, 0.0, False)],\n",
       "  3: [(0.3333333333333333, 3, 0.0, False),\n",
       "   (0.3333333333333333, 2, 0.0, False),\n",
       "   (0.3333333333333333, 1, 0.0, False)]},\n",
       " 3: {0: [(0.3333333333333333, 3, 0.0, False),\n",
       "   (0.3333333333333333, 2, 0.0, False),\n",
       "   (0.3333333333333333, 7, 0.0, True)],\n",
       "  1: [(0.3333333333333333, 2, 0.0, False),\n",
       "   (0.3333333333333333, 7, 0.0, True),\n",
       "   (0.3333333333333333, 3, 0.0, False)],\n",
       "  2: [(0.3333333333333333, 7, 0.0, True),\n",
       "   (0.3333333333333333, 3, 0.0, False),\n",
       "   (0.3333333333333333, 3, 0.0, False)],\n",
       "  3: [(0.3333333333333333, 3, 0.0, False),\n",
       "   (0.3333333333333333, 3, 0.0, False),\n",
       "   (0.3333333333333333, 2, 0.0, False)]},\n",
       " 4: {0: [(0.3333333333333333, 0, 0.0, False),\n",
       "   (0.3333333333333333, 4, 0.0, False),\n",
       "   (0.3333333333333333, 8, 0.0, False)],\n",
       "  1: [(0.3333333333333333, 4, 0.0, False),\n",
       "   (0.3333333333333333, 8, 0.0, False),\n",
       "   (0.3333333333333333, 5, 0.0, True)],\n",
       "  2: [(0.3333333333333333, 8, 0.0, False),\n",
       "   (0.3333333333333333, 5, 0.0, True),\n",
       "   (0.3333333333333333, 0, 0.0, False)],\n",
       "  3: [(0.3333333333333333, 5, 0.0, True),\n",
       "   (0.3333333333333333, 0, 0.0, False),\n",
       "   (0.3333333333333333, 4, 0.0, False)]},\n",
       " 5: {0: [(1.0, 5, 0, True)],\n",
       "  1: [(1.0, 5, 0, True)],\n",
       "  2: [(1.0, 5, 0, True)],\n",
       "  3: [(1.0, 5, 0, True)]},\n",
       " 6: {0: [(0.3333333333333333, 2, 0.0, False),\n",
       "   (0.3333333333333333, 5, 0.0, True),\n",
       "   (0.3333333333333333, 10, 0.0, False)],\n",
       "  1: [(0.3333333333333333, 5, 0.0, True),\n",
       "   (0.3333333333333333, 10, 0.0, False),\n",
       "   (0.3333333333333333, 7, 0.0, True)],\n",
       "  2: [(0.3333333333333333, 10, 0.0, False),\n",
       "   (0.3333333333333333, 7, 0.0, True),\n",
       "   (0.3333333333333333, 2, 0.0, False)],\n",
       "  3: [(0.3333333333333333, 7, 0.0, True),\n",
       "   (0.3333333333333333, 2, 0.0, False),\n",
       "   (0.3333333333333333, 5, 0.0, True)]},\n",
       " 7: {0: [(1.0, 7, 0, True)],\n",
       "  1: [(1.0, 7, 0, True)],\n",
       "  2: [(1.0, 7, 0, True)],\n",
       "  3: [(1.0, 7, 0, True)]},\n",
       " 8: {0: [(0.3333333333333333, 4, 0.0, False),\n",
       "   (0.3333333333333333, 8, 0.0, False),\n",
       "   (0.3333333333333333, 12, 0.0, True)],\n",
       "  1: [(0.3333333333333333, 8, 0.0, False),\n",
       "   (0.3333333333333333, 12, 0.0, True),\n",
       "   (0.3333333333333333, 9, 0.0, False)],\n",
       "  2: [(0.3333333333333333, 12, 0.0, True),\n",
       "   (0.3333333333333333, 9, 0.0, False),\n",
       "   (0.3333333333333333, 4, 0.0, False)],\n",
       "  3: [(0.3333333333333333, 9, 0.0, False),\n",
       "   (0.3333333333333333, 4, 0.0, False),\n",
       "   (0.3333333333333333, 8, 0.0, False)]},\n",
       " 9: {0: [(0.3333333333333333, 5, 0.0, True),\n",
       "   (0.3333333333333333, 8, 0.0, False),\n",
       "   (0.3333333333333333, 13, 0.0, False)],\n",
       "  1: [(0.3333333333333333, 8, 0.0, False),\n",
       "   (0.3333333333333333, 13, 0.0, False),\n",
       "   (0.3333333333333333, 10, 0.0, False)],\n",
       "  2: [(0.3333333333333333, 13, 0.0, False),\n",
       "   (0.3333333333333333, 10, 0.0, False),\n",
       "   (0.3333333333333333, 5, 0.0, True)],\n",
       "  3: [(0.3333333333333333, 10, 0.0, False),\n",
       "   (0.3333333333333333, 5, 0.0, True),\n",
       "   (0.3333333333333333, 8, 0.0, False)]},\n",
       " 10: {0: [(0.3333333333333333, 6, 0.0, False),\n",
       "   (0.3333333333333333, 9, 0.0, False),\n",
       "   (0.3333333333333333, 14, 0.0, False)],\n",
       "  1: [(0.3333333333333333, 9, 0.0, False),\n",
       "   (0.3333333333333333, 14, 0.0, False),\n",
       "   (0.3333333333333333, 11, 0.0, True)],\n",
       "  2: [(0.3333333333333333, 14, 0.0, False),\n",
       "   (0.3333333333333333, 11, 0.0, True),\n",
       "   (0.3333333333333333, 6, 0.0, False)],\n",
       "  3: [(0.3333333333333333, 11, 0.0, True),\n",
       "   (0.3333333333333333, 6, 0.0, False),\n",
       "   (0.3333333333333333, 9, 0.0, False)]},\n",
       " 11: {0: [(1.0, 11, 0, True)],\n",
       "  1: [(1.0, 11, 0, True)],\n",
       "  2: [(1.0, 11, 0, True)],\n",
       "  3: [(1.0, 11, 0, True)]},\n",
       " 12: {0: [(1.0, 12, 0, True)],\n",
       "  1: [(1.0, 12, 0, True)],\n",
       "  2: [(1.0, 12, 0, True)],\n",
       "  3: [(1.0, 12, 0, True)]},\n",
       " 13: {0: [(0.3333333333333333, 9, 0.0, False),\n",
       "   (0.3333333333333333, 12, 0.0, True),\n",
       "   (0.3333333333333333, 13, 0.0, False)],\n",
       "  1: [(0.3333333333333333, 12, 0.0, True),\n",
       "   (0.3333333333333333, 13, 0.0, False),\n",
       "   (0.3333333333333333, 14, 0.0, False)],\n",
       "  2: [(0.3333333333333333, 13, 0.0, False),\n",
       "   (0.3333333333333333, 14, 0.0, False),\n",
       "   (0.3333333333333333, 9, 0.0, False)],\n",
       "  3: [(0.3333333333333333, 14, 0.0, False),\n",
       "   (0.3333333333333333, 9, 0.0, False),\n",
       "   (0.3333333333333333, 12, 0.0, True)]},\n",
       " 14: {0: [(0.3333333333333333, 10, 0.0, False),\n",
       "   (0.3333333333333333, 13, 0.0, False),\n",
       "   (0.3333333333333333, 14, 0.0, False)],\n",
       "  1: [(0.3333333333333333, 13, 0.0, False),\n",
       "   (0.3333333333333333, 14, 0.0, False),\n",
       "   (0.3333333333333333, 15, 1.0, True)],\n",
       "  2: [(0.3333333333333333, 14, 0.0, False),\n",
       "   (0.3333333333333333, 15, 1.0, True),\n",
       "   (0.3333333333333333, 10, 0.0, False)],\n",
       "  3: [(0.3333333333333333, 15, 1.0, True),\n",
       "   (0.3333333333333333, 10, 0.0, False),\n",
       "   (0.3333333333333333, 13, 0.0, False)]},\n",
       " 15: {0: [(1.0, 15, 0, True)],\n",
       "  1: [(1.0, 15, 0, True)],\n",
       "  2: [(1.0, 15, 0, True)],\n",
       "  3: [(1.0, 15, 0, True)]}}"
      ]
     },
     "execution_count": 143,
     "metadata": {},
     "output_type": "execute_result"
    }
   ],
   "source": [
    "env.env.P"
   ]
  },
  {
   "cell_type": "markdown",
   "metadata": {},
   "source": [
    "## Random Strategy"
   ]
  },
  {
   "cell_type": "code",
   "execution_count": 144,
   "metadata": {},
   "outputs": [],
   "source": [
    "# experiment settings\n",
    "n_episodes = 100\n",
    "reward_array = np.zeros(n_episodes)"
   ]
  },
  {
   "cell_type": "code",
   "execution_count": 145,
   "metadata": {},
   "outputs": [
    {
     "name": "stderr",
     "output_type": "stream",
     "text": [
      "Episode 100 Reward 0.0: 100%|██████████| 100/100 [00:01<00:00, 64.28it/s]\n"
     ]
    }
   ],
   "source": [
    "# performance of an agent taking random actions\n",
    "t = trange(n_episodes)\n",
    "# for each episode\n",
    "for i in t:\n",
    "    # reset environment\n",
    "    env.reset()\n",
    "    # done flag\n",
    "    done = False\n",
    "    while not done:\n",
    "        # randomly pick an action\n",
    "        action = np.random.randint(n_actions)\n",
    "        # get feedback from the environment\n",
    "        _, reward, done, _ = env.step(action)\n",
    "        if done:\n",
    "            # update processing bar\n",
    "            t.set_description('Episode {} Reward {}'.format(i + 1, reward))\n",
    "            t.refresh()\n",
    "            reward_array[i] = reward\n",
    "            reward_count = reward + reward\n",
    "            break\n",
    "env.close()"
   ]
  },
  {
   "cell_type": "code",
   "execution_count": 146,
   "metadata": {},
   "outputs": [
    {
     "name": "stdout",
     "output_type": "stream",
     "text": [
      "Averaged reward per episode 0.01\n"
     ]
    }
   ],
   "source": [
    "# averaged reward per episode\n",
    "avg_reward = round(np.mean(reward_array), 4) # compute the average of reward\n",
    "print('Averaged reward per episode {}'.format(avg_reward))"
   ]
  },
  {
   "cell_type": "code",
   "execution_count": 147,
   "metadata": {},
   "outputs": [
    {
     "data": {
      "image/png": "[encoded data removed]",
      "text/plain": [
       "<Figure size 600x600 with 1 Axes>"
      ]
     },
     "metadata": {
      "needs_background": "light"
     },
     "output_type": "display_data"
    }
   ],
   "source": [
    "# show reward per episode\n",
    "plt.subplots(figsize = (6, 6), dpi=100)\n",
    "plt.plot(reward_array, color='black', linewidth=0.5)\n",
    "plt.ylabel('Reward', fontsize=12)\n",
    "plt.xlabel('Episode', fontsize=12)\n",
    "plt.xticks(fontsize=12)\n",
    "plt.yticks(fontsize=12)\n",
    "plt.title('Random Strategy\\nReward Per Episode for {} Episodes - Average: {:.2f}'.format(n_episodes, avg_reward), \n",
    "          fontsize=12)\n",
    "plt.savefig(RESULT_IMG_PATH.format(0), dpi=100, bbox_inches='tight')\n",
    "plt.show()"
   ]
  },
  {
   "cell_type": "markdown",
   "metadata": {},
   "source": [
    "## State Action Reward State Action (SARSA)"
   ]
  },
  {
   "cell_type": "markdown",
   "metadata": {},
   "source": [
    "[State Action Reward State Action (SARSA)](https://en.wikipedia.org/wiki/State%E2%80%93action%E2%80%93reward%E2%80%93state%E2%80%93action) \n",
    "est une méthode classique d'apprentissage d'une politique de processus de décision de Markov (MDP) pour résoudre des problèmes dans le domaine de l'apprentissage par renforcement. Comme l'indique le nom SARSA, il met à jour le $Q(s_{t}, a_{t})$, en fonction de l'état actuel $s_{t}$, de l'action choisie $a_{t}$, de la récompense $r_{t}$ due à cette action, du nouvel état $s_{t+1}$ après avoir pris cette action, et de l'action $a_{t+1}$ choisie pour ce nouvel état.\n",
    "Étant donné cela, le tableau des valeurs Q peut être mis à jour par :\n",
    "\n",
    "$$Q(s_{t}, a_{t}) \\leftarrow Q(s_{t}, a_{t}) + \\alpha[r_{t} + \\gamma Q(s_{t+1}, a_{t+1}) - Q(s_{t}, a_{t})]$$\n",
    "\n",
    "* $s$ est l'espace d'état\n",
    "* $a$ est l'espace des actions \n",
    "* $P$ représente les probabilités de transition, $P(s,a,s')$ est la probabilité d'arriver à l'état $s'$ en effectuant l'action $a$ dans l'état $s$.\n",
    "* $r$ est la fonction de récompense telle que $r(s,a,s')$ est la récompense obtenue en prenant l'action $a$ dans l'état $s$ et en arrivant à $s'$.\n",
    "* $\\gamma$ est le facteur d'actualisation\n",
    "\n",
    "\n",
    "On peut voir dans la définition que la méthode SARSA vise à mettre à jour la politique par le biais d'interactions avec l'environnement, elle appartient donc à la famille des algorithmes d'apprentissage sur la politique.\n",
    "\n",
    "À chaque instant $t$, SARSA conserve une estimation $\\hat{Q}_t$ de la vraie fonction Q et utilise $\\pi_{\\hat{Q}_t}(a|s)$ pour choisir l'action $a_t$. Si $\\tau \\to 0$ avec un taux approprié comme $t \\to \\infty$, $\\hat{Q}_t$ converge vers $Q$ et $\\pi_{\\hat{Q}_t}(a|s)$ converge vers la politique optimale $\\pi^*$. \n",
    "\n",
    "\n",
    "\n",
    "La mise à jour SARSA au temps $t$ est effectuée comme suit :\n",
    "\n",
    "1. Dans l'état $s_t$, prendre l'action $a_t \\sim \\pi_{\\hat{Q}_t}(a|s_t)$ ;\n",
    "2. Observer $s_{t+1}$ et récompenser $r_t$;\n",
    "3. Sampler la prochaine action $a_{t+1} \\sim \\pi_{\\hat{Q}_t}(a|s_{t+1})$;\n",
    "4. Calculer $\\delta_t = r_t + \\gamma \\hat{Q}_t(s_{t+1}, a_{t+1}) - \\hat{Q}_t(s_t, a_t)$\n",
    "5. Mettre à jour $\\hat{Q}_{t+1}(s, a) = \\hat{Q}_t(s, a) + \\alpha_t(s,a)\\delta_t\\mathbb{1}\\{s=s_t, a=a_t\\}$\n",
    "\n",
    "\n",
    "\n",
    "\n"
   ]
  },
  {
   "cell_type": "markdown",
   "metadata": {},
   "source": [
    "### Training"
   ]
  },
  {
   "cell_type": "code",
   "execution_count": 148,
   "metadata": {},
   "outputs": [],
   "source": [
    "# initialize the agent’s Q-table to zeros\n",
    "def init_q(s, a):\n",
    "    \"\"\"\n",
    "    s: number of states\n",
    "    a: number of actions\n",
    "    \"\"\"\n",
    "    return np.zeros((s, a))\n",
    "\n",
    "# epsilon-greedy exploration strategy\n",
    "def epsilon_greedy(Q, epsilon, n_actions, s):\n",
    "    \"\"\"\n",
    "    Q: Q Table\n",
    "    epsilon: exploration parameter\n",
    "    n_actions: number of actions\n",
    "    s: state\n",
    "    \"\"\"\n",
    "    # selects a random action with probability epsilon\n",
    "    if np.random.random() <= epsilon:\n",
    "        return np.random.randint(n_actions)\n",
    "    else:\n",
    "        return np.argmax(Q[s, :])\n",
    "    \n",
    "# SARSA Process\n",
    "def sarsa(alpha, gamma, epsilon, n_episodes):\n",
    "    \"\"\"\n",
    "    alpha: learning rate\n",
    "    gamma: exploration parameter\n",
    "    n_episodes: number of episodes\n",
    "    \"\"\"\n",
    "    # initialize Q table\n",
    "    Q = init_q(n_states, n_actions)\n",
    "    t = trange(n_episodes)\n",
    "    reward_array = np.zeros(n_episodes)\n",
    "    for i in t:\n",
    "        # initial state\n",
    "        s = env.reset()\n",
    "        # initial action\n",
    "        a = epsilon_greedy(Q, epsilon, n_actions, s)\n",
    "        done = False\n",
    "        while not done:\n",
    "            s_, reward, done, _ = env.step(a)\n",
    "            a_ = epsilon_greedy(Q, epsilon, n_actions, s_)\n",
    "            # update Q table\n",
    "            Q[s, a] += alpha * (reward + (gamma * Q[s_, a_]) - Q[s, a])\n",
    "            #insert formula #because on-policy ;)\n",
    "            if done:\n",
    "                t.set_description('Episode {} Reward {}'.format(i + 1, reward))\n",
    "                t.refresh()\n",
    "                reward_array[i] = reward\n",
    "                break\n",
    "            s, a = s_, a_\n",
    "    env.close()\n",
    "    return Q, reward_array"
   ]
  },
  {
   "cell_type": "code",
   "execution_count": 149,
   "metadata": {},
   "outputs": [],
   "source": [
    "# experiment settings\n",
    "alpha = 0.1 # learning rate\n",
    "gamma = 0.9 # discount factor\n",
    "epsilon=0.5 # exploration parameter\n",
    "n_episodes = 10000 # number of training episodes"
   ]
  },
  {
   "cell_type": "code",
   "execution_count": 150,
   "metadata": {},
   "outputs": [
    {
     "name": "stderr",
     "output_type": "stream",
     "text": [
      "Episode 10000 Reward 0.0: 100%|██████████| 10000/10000 [02:36<00:00, 64.10it/s]\n"
     ]
    }
   ],
   "source": [
    "# training\n",
    "Q, reward_array = sarsa(alpha, gamma, epsilon, n_episodes)"
   ]
  },
  {
   "cell_type": "code",
   "execution_count": 151,
   "metadata": {},
   "outputs": [
    {
     "data": {
      "text/plain": [
       "array([[0.0130761 , 0.01185842, 0.01177869, 0.01014269],\n",
       "       [0.00656466, 0.00686812, 0.00738681, 0.01111202],\n",
       "       [0.01784328, 0.01193133, 0.01268075, 0.01077331],\n",
       "       [0.00828925, 0.00701583, 0.00568124, 0.0094812 ],\n",
       "       [0.01461867, 0.01694788, 0.021596  , 0.00869737],\n",
       "       [0.        , 0.        , 0.        , 0.        ],\n",
       "       [0.03509133, 0.02338501, 0.02107746, 0.00354493],\n",
       "       [0.        , 0.        , 0.        , 0.        ],\n",
       "       [0.02124879, 0.03472687, 0.02586635, 0.03148841],\n",
       "       [0.05371613, 0.09938992, 0.10706453, 0.05754343],\n",
       "       [0.11420329, 0.20823514, 0.09104104, 0.02292087],\n",
       "       [0.        , 0.        , 0.        , 0.        ],\n",
       "       [0.        , 0.        , 0.        , 0.        ],\n",
       "       [0.11812822, 0.17454853, 0.22833845, 0.1791438 ],\n",
       "       [0.21510886, 0.61165377, 0.43187737, 0.28384012],\n",
       "       [0.        , 0.        , 0.        , 0.        ]])"
      ]
     },
     "execution_count": 151,
     "metadata": {},
     "output_type": "execute_result"
    }
   ],
   "source": [
    "# show Q table\n",
    "Q"
   ]
  },
  {
   "cell_type": "markdown",
   "metadata": {},
   "source": [
    "### Visualisation de la policy obtenue"
   ]
  },
  {
   "cell_type": "code",
   "execution_count": 152,
   "metadata": {},
   "outputs": [
    {
     "name": "stdout",
     "output_type": "stream",
     "text": [
      "[0, 3, 0, 3]\n",
      "[2, 0, 0, 0]\n",
      "[1, 2, 1, 0]\n",
      "[0, 2, 1, 0]\n",
      "0:gauche, 1:bas, 2:droite,3:haut\n"
     ]
    }
   ],
   "source": [
    "policy_estimation = []\n",
    "for state in Q:\n",
    "    policy_estimation.append(state.argmax())\n",
    "    \n",
    "def print_policy(policy):\n",
    "    i = 0\n",
    "    while i < 16:\n",
    "        print(policy[i: i+4])\n",
    "        i +=4\n",
    "print_policy(policy_estimation) \n",
    "print(\"0:gauche, 1:bas, 2:droite,3:haut\")"
   ]
  },
  {
   "cell_type": "code",
   "execution_count": 153,
   "metadata": {},
   "outputs": [
    {
     "name": "stdout",
     "output_type": "stream",
     "text": [
      "Averaged reward per episode 0.0479\n"
     ]
    }
   ],
   "source": [
    "# averaged reward per episode\n",
    "avg_reward = round(np.mean(reward_array), 4)\n",
    "\n",
    "print('Averaged reward per episode {}'.format(avg_reward))"
   ]
  },
  {
   "cell_type": "markdown",
   "metadata": {},
   "source": [
    "### Testing"
   ]
  },
  {
   "cell_type": "code",
   "execution_count": 154,
   "metadata": {},
   "outputs": [],
   "source": [
    "def eva(Q, n_episodes):\n",
    "    \"\"\"\n",
    "    Q: trained Q table\n",
    "    n_episodes: number of episodes\n",
    "    \"\"\"\n",
    "    t = trange(n_episodes)\n",
    "    reward_array = np.zeros(n_episodes)\n",
    "    for i in t:\n",
    "        # initial state\n",
    "        s = env.reset()\n",
    "        # initial action\n",
    "        a = np.argmax(Q[s])\n",
    "        done = False\n",
    "        while not done:\n",
    "            s_, reward, done, _ = env.step(a)\n",
    "            # pick an action according the state and trained Q table\n",
    "            a_ = np.argmax(Q[s_])\n",
    "            if done:\n",
    "                t.set_description('Episode {} Reward {}'.format(i + 1, reward))\n",
    "                t.refresh()\n",
    "                reward_array[i] = reward\n",
    "                break\n",
    "            s, a = s_, a_\n",
    "    env.close()\n",
    "    return reward_array"
   ]
  },
  {
   "cell_type": "code",
   "execution_count": 155,
   "metadata": {},
   "outputs": [
    {
     "name": "stderr",
     "output_type": "stream",
     "text": [
      "Episode 100 Reward 0.0: 100%|██████████| 100/100 [00:01<00:00, 89.54it/s]\n"
     ]
    }
   ],
   "source": [
    "# experiment settings\n",
    "n_episodes = 100 # number of testing episodes\n",
    "reward_array = eva(Q, n_episodes)"
   ]
  },
  {
   "cell_type": "code",
   "execution_count": 156,
   "metadata": {},
   "outputs": [
    {
     "name": "stdout",
     "output_type": "stream",
     "text": [
      "Averaged reward per episode 0.08\n"
     ]
    }
   ],
   "source": [
    "# averaged reward per episode\n",
    "avg_reward = round(np.mean(reward_array), 4)\n",
    "print('Averaged reward per episode {}'.format(avg_reward))"
   ]
  },
  {
   "cell_type": "code",
   "execution_count": 157,
   "metadata": {},
   "outputs": [
    {
     "data": {
      "image/png": "[encoded data removed]",
      "text/plain": [
       "<Figure size 600x600 with 1 Axes>"
      ]
     },
     "metadata": {
      "needs_background": "light"
     },
     "output_type": "display_data"
    }
   ],
   "source": [
    "# show reward per episode\n",
    "plt.subplots(figsize = (6, 6), dpi=100)\n",
    "plt.plot(reward_array, color='black', linewidth=0.5)\n",
    "plt.ylabel('Reward', fontsize=12)\n",
    "plt.xlabel('Episode', fontsize=12)\n",
    "plt.xticks(fontsize=12)\n",
    "plt.yticks(fontsize=12)\n",
    "plt.title('SARSA Agent\\nReward Per Episode for {} Episodes - Average: {:.2f}'.format(n_episodes, avg_reward), \n",
    "          fontsize=12)\n",
    "plt.savefig(RESULT_IMG_PATH.format(1), dpi=100, bbox_inches='tight')\n",
    "plt.show()"
   ]
  },
  {
   "cell_type": "code",
   "execution_count": 159,
   "metadata": {},
   "outputs": [
    {
     "name": "stdout",
     "output_type": "stream",
     "text": [
      "\n",
      "\u001b[41mS\u001b[0mFFF\n",
      "FHFH\n",
      "FFFH\n",
      "HFFG\n",
      "  (Left)\n",
      "SFFF\n",
      "\u001b[41mF\u001b[0mHFH\n",
      "FFFH\n",
      "HFFG\n",
      "  (Right)\n",
      "SFFF\n",
      "FHFH\n",
      "\u001b[41mF\u001b[0mFFH\n",
      "HFFG\n",
      "  (Down)\n",
      "SFFF\n",
      "FHFH\n",
      "F\u001b[41mF\u001b[0mFH\n",
      "HFFG\n",
      "  (Right)\n",
      "SFFF\n",
      "FHFH\n",
      "FF\u001b[41mF\u001b[0mH\n",
      "HFFG\n",
      "  (Down)\n",
      "SFFF\n",
      "FHFH\n",
      "FFF\u001b[41mH\u001b[0m\n",
      "HFFG\n"
     ]
    }
   ],
   "source": [
    "# trained SARSA agent in Frozen Lake\n",
    "done = False\n",
    "s = env.reset()\n",
    "env.render()\n",
    "while not done:\n",
    "    # pick an action\n",
    "    a = np.argmax(Q[s])\n",
    "    # get feedback from the environment\n",
    "    s_, _, done, _ = env.step(a)\n",
    "    # show the environment\n",
    "    env.render()\n",
    "    s = s_"
   ]
  },
  {
   "cell_type": "code",
   "execution_count": null,
   "metadata": {},
   "outputs": [],
   "source": []
  }
 ],
 "metadata": {
  "interpreter": {
   "hash": "0d36b1024f4854ed1bc7aee6b8e0d5bbafe4479b328b636d4212d10594cd9b26"
  },
  "kernelspec": {
   "display_name": "Python 3.8.12 64-bit ('reinf_lear': conda)",
   "name": "python3"
  },
  "language_info": {
   "codemirror_mode": {
    "name": "ipython",
    "version": 3
   },
   "file_extension": ".py",
   "mimetype": "text/x-python",
   "name": "python",
   "nbconvert_exporter": "python",
   "pygments_lexer": "ipython3",
   "version": "3.8.12"
  }
 },
 "nbformat": 4,
 "nbformat_minor": 4
}
