{
 "cells": [
  {
   "cell_type": "code",
   "execution_count": 9,
   "metadata": {},
   "outputs": [
    {
     "name": "stdout",
     "output_type": "stream",
     "text": [
      "TensorFlow version: 2.7.0\n"
     ]
    }
   ],
   "source": [
    "import tensorflow as tf\n",
    "print(\"TensorFlow version:\", tf.__version__)"
   ]
  },
  {
   "cell_type": "markdown",
   "metadata": {},
   "source": [
    "# Exemple construction et entrainement d'un modèle NN de régression avec Keras (TF 2.x)"
   ]
  },
  {
   "cell_type": "markdown",
   "metadata": {},
   "source": [
    "Nous voulons travailler sur le dataset \"boston housing\" pour construire un modèle de régression capable de prédire le prix de logements dans la ville de Boston à partir de 13 attributes numériques du bien immobilier."
   ]
  },
  {
   "cell_type": "markdown",
   "metadata": {},
   "source": [
    "13 attributes of houses at different locations around the Boston suburbs in the late 1970s. Targets are the median values of the houses at a location (in k$). Variables in order:\n",
    " \n",
    " * CRIM     per capita crime rate by town\n",
    " * ZN       proportion of residential land zoned for lots over 25,000 sq.ft.\n",
    " * INDUS    proportion of non-retail business acres per town\n",
    " * CHAS     Charles River dummy variable (= 1 if tract bounds river; 0 otherwise)\n",
    " * NOX      nitric oxides concentration (parts per 10 million)\n",
    " * RM       average number of rooms per dwelling\n",
    " * AGE      proportion of owner-occupied units built prior to 1940\n",
    " * DIS      weighted distances to five Boston employment centres\n",
    " * RAD      index of accessibility to radial highways\n",
    " * TAX      full-value property-tax rate per 10,000 dollars\n",
    " * PTRATIO  pupil-teacher ratio by town\n",
    " * B        1000(Bk - 0.63)^2 where Bk is the proportion of blacks by town\n",
    " * LSTAT    percentage lower status of the population\n",
    " * MEDV     Median value of owner-occupied homes in k$"
   ]
  },
  {
   "cell_type": "markdown",
   "metadata": {},
   "source": [
    "### Données"
   ]
  },
  {
   "cell_type": "code",
   "execution_count": 10,
   "metadata": {},
   "outputs": [],
   "source": [
    "# import dataset (spécifique au dataset, ici on utilise un dataset disponible par défaut dans Keras)\n",
    "\n",
    "dataset = tf.keras.datasets.boston_housing\n",
    "(x_train, y_train), (x_test, y_test) = dataset.load_data(test_split=0.2)\n",
    "\n",
    "# nous avons importé données et labels d'entrainement et de test"
   ]
  },
  {
   "cell_type": "code",
   "execution_count": 11,
   "metadata": {},
   "outputs": [],
   "source": [
    "# rescale data\n",
    "\n",
    "from sklearn.preprocessing import StandardScaler\n",
    "scaler = StandardScaler()\n",
    "\n",
    "# first we fit the scaler on the training dataset\n",
    "scaler.fit(x_train)\n",
    "\n",
    "# then we call the transform method to scale both the training and testing data\n",
    "X_train_scaled = scaler.transform(x_train)\n",
    "X_test_scaled = scaler.transform(x_test)"
   ]
  },
  {
   "cell_type": "markdown",
   "metadata": {},
   "source": [
    "### Création du modèle (architecture NN)"
   ]
  },
  {
   "cell_type": "markdown",
   "metadata": {},
   "source": [
    "Construire un modèle avec l'architecture suivante:\n",
    "* en entrée les 13 variables numériques du dataset\n",
    "* une première couche dense avec 8 néurones et activation ReLU\n",
    "* une deuxième couche dense avec 16 néurones et activation ReLU\n",
    "* une couche finale dense de régréssion\n",
    "\n",
    "Pour çela, utilisez votre API keras préférée (sequential ou functional)"
   ]
  },
  {
   "cell_type": "code",
   "execution_count": 12,
   "metadata": {},
   "outputs": [
    {
     "name": "stderr",
     "output_type": "stream",
     "text": [
      "2021-11-13 16:29:31.721779: W tensorflow/stream_executor/platform/default/dso_loader.cc:64] Could not load dynamic library 'libcuda.so.1'; dlerror: libcuda.so.1: cannot open shared object file: No such file or directory\n",
      "2021-11-13 16:29:31.721902: W tensorflow/stream_executor/cuda/cuda_driver.cc:269] failed call to cuInit: UNKNOWN ERROR (303)\n",
      "2021-11-13 16:29:31.724378: I tensorflow/stream_executor/cuda/cuda_diagnostics.cc:156] kernel driver does not appear to be running on this host (LAPTOP-DMWORK): /proc/driver/nvidia/version does not exist\n",
      "2021-11-13 16:29:31.750352: I tensorflow/core/platform/cpu_feature_guard.cc:151] This TensorFlow binary is optimized with oneAPI Deep Neural Network Library (oneDNN) to use the following CPU instructions in performance-critical operations:  AVX2 FMA\n",
      "To enable them in other operations, rebuild TensorFlow with the appropriate compiler flags.\n"
     ]
    }
   ],
   "source": [
    "# construction du modèle de regréssion pour l'estimation de prix\n",
    "\n",
    "model = tf.keras.models.Sequential([\n",
    "  tf.keras.layers.Dense(8, activation='relu', input_shape=[X_train_scaled.shape[1]]),\n",
    "  tf.keras.layers.Dense(16, activation='relu'),\n",
    "  tf.keras.layers.Dense(1)\n",
    "])"
   ]
  },
  {
   "cell_type": "code",
   "execution_count": 13,
   "metadata": {},
   "outputs": [],
   "source": [
    "# autre option sequentiel\n",
    "model = tf.keras.models.Sequential()\n",
    "\n",
    "model.add(tf.keras.layers.Dense(8, activation='relu', input_shape=[X_train_scaled.shape[1]]))\n",
    "model.add(tf.keras.layers.Dense(16, activation='relu'))\n",
    "model.add(tf.keras.layers.Dense(1))"
   ]
  },
  {
   "cell_type": "code",
   "execution_count": 14,
   "metadata": {},
   "outputs": [],
   "source": [
    "# functional api\n",
    "inp = tf.keras.layers.Input(shape=[X_train_scaled.shape[1]])\n",
    "x = tf.keras.layers.Dense(8, activation='relu')(inp)\n",
    "x = tf.keras.layers.Dense(16, activation='relu')(x)\n",
    "out = tf.keras.layers.Dense(1)(x)\n",
    "\n",
    "model = tf.keras.models.Model(inputs=[inp,], outputs=[out])"
   ]
  },
  {
   "cell_type": "markdown",
   "metadata": {},
   "source": [
    "Compiler le modèle avec optimiseur \"rmsprop\".\n",
    "Pour la lossfunction, utiliser l'erreur moindre carrés (car il s'agit d'un modèle de regéssion), et utiliser comme métrique de performance le \"mean absolute error\". "
   ]
  },
  {
   "cell_type": "code",
   "execution_count": 15,
   "metadata": {},
   "outputs": [],
   "source": [
    "#compile model\n",
    "model.compile(optimizer='rmsprop', loss='mse', metrics=['mae'])"
   ]
  },
  {
   "cell_type": "markdown",
   "metadata": {},
   "source": [
    "### Entrainement du modèle\n",
    "\n",
    "Entrainer le modèle sur le jeu d'entrainement pendant 100 epochs. utiliser le 20% de ces données en tant que données de validation"
   ]
  },
  {
   "cell_type": "code",
   "execution_count": 16,
   "metadata": {},
   "outputs": [
    {
     "name": "stdout",
     "output_type": "stream",
     "text": [
      "Epoch 1/100\n",
      "11/11 [==============================] - 4s 48ms/step - loss: 552.1419 - mae: 21.7568 - val_loss: 620.4465 - val_mae: 23.2718\n",
      "Epoch 2/100\n",
      "11/11 [==============================] - 0s 12ms/step - loss: 541.1337 - mae: 21.5090 - val_loss: 610.9467 - val_mae: 23.0706\n",
      "Epoch 3/100\n",
      "11/11 [==============================] - 0s 18ms/step - loss: 531.4337 - mae: 21.2965 - val_loss: 601.0385 - val_mae: 22.8624\n",
      "Epoch 4/100\n",
      "11/11 [==============================] - 0s 17ms/step - loss: 521.3623 - mae: 21.0751 - val_loss: 590.2405 - val_mae: 22.6342\n",
      "Epoch 5/100\n",
      "11/11 [==============================] - 0s 18ms/step - loss: 510.3867 - mae: 20.8327 - val_loss: 578.7880 - val_mae: 22.3897\n",
      "Epoch 6/100\n",
      "11/11 [==============================] - 0s 19ms/step - loss: 498.9777 - mae: 20.5748 - val_loss: 567.8013 - val_mae: 22.1426\n",
      "Epoch 7/100\n",
      "11/11 [==============================] - 0s 24ms/step - loss: 487.5367 - mae: 20.3060 - val_loss: 554.0139 - val_mae: 21.8416\n",
      "Epoch 8/100\n",
      "11/11 [==============================] - 0s 41ms/step - loss: 474.1086 - mae: 19.9953 - val_loss: 541.2366 - val_mae: 21.5487\n",
      "Epoch 9/100\n",
      "11/11 [==============================] - 0s 27ms/step - loss: 460.7762 - mae: 19.6767 - val_loss: 527.7206 - val_mae: 21.2274\n",
      "Epoch 10/100\n",
      "11/11 [==============================] - 0s 29ms/step - loss: 446.3253 - mae: 19.3253 - val_loss: 511.4651 - val_mae: 20.8410\n",
      "Epoch 11/100\n",
      "11/11 [==============================] - 0s 41ms/step - loss: 430.0846 - mae: 18.9205 - val_loss: 494.1634 - val_mae: 20.4200\n",
      "Epoch 12/100\n",
      "11/11 [==============================] - 0s 29ms/step - loss: 413.1299 - mae: 18.4869 - val_loss: 476.3981 - val_mae: 19.9723\n",
      "Epoch 13/100\n",
      "11/11 [==============================] - 0s 25ms/step - loss: 395.4519 - mae: 18.0275 - val_loss: 459.5527 - val_mae: 19.5445\n",
      "Epoch 14/100\n",
      "11/11 [==============================] - 0s 24ms/step - loss: 378.2207 - mae: 17.5555 - val_loss: 439.5048 - val_mae: 19.0311\n",
      "Epoch 15/100\n",
      "11/11 [==============================] - 0s 17ms/step - loss: 358.6708 - mae: 17.0033 - val_loss: 420.1740 - val_mae: 18.5175\n",
      "Epoch 16/100\n",
      "11/11 [==============================] - 0s 23ms/step - loss: 339.3580 - mae: 16.4343 - val_loss: 400.5504 - val_mae: 17.9710\n",
      "Epoch 17/100\n",
      "11/11 [==============================] - 0s 24ms/step - loss: 319.6886 - mae: 15.8479 - val_loss: 378.5988 - val_mae: 17.3339\n",
      "Epoch 18/100\n",
      "11/11 [==============================] - 0s 22ms/step - loss: 298.8466 - mae: 15.2116 - val_loss: 358.8557 - val_mae: 16.7178\n",
      "Epoch 19/100\n",
      "11/11 [==============================] - 0s 24ms/step - loss: 279.7935 - mae: 14.5915 - val_loss: 338.6705 - val_mae: 16.0694\n",
      "Epoch 20/100\n",
      "11/11 [==============================] - 0s 15ms/step - loss: 260.2985 - mae: 13.9332 - val_loss: 318.2139 - val_mae: 15.3805\n",
      "Epoch 21/100\n",
      "11/11 [==============================] - 0s 18ms/step - loss: 241.6750 - mae: 13.2855 - val_loss: 298.8050 - val_mae: 14.7031\n",
      "Epoch 22/100\n",
      "11/11 [==============================] - 0s 16ms/step - loss: 223.6756 - mae: 12.6369 - val_loss: 279.4722 - val_mae: 13.9995\n",
      "Epoch 23/100\n",
      "11/11 [==============================] - 0s 27ms/step - loss: 206.3259 - mae: 11.9788 - val_loss: 262.5880 - val_mae: 13.3440\n",
      "Epoch 24/100\n",
      "11/11 [==============================] - 0s 18ms/step - loss: 191.2036 - mae: 11.3952 - val_loss: 245.3649 - val_mae: 12.6603\n",
      "Epoch 25/100\n",
      "11/11 [==============================] - 0s 18ms/step - loss: 176.4597 - mae: 10.8166 - val_loss: 229.4880 - val_mae: 12.0065\n",
      "Epoch 26/100\n",
      "11/11 [==============================] - 0s 21ms/step - loss: 162.7582 - mae: 10.2840 - val_loss: 212.8995 - val_mae: 11.3733\n",
      "Epoch 27/100\n",
      "11/11 [==============================] - 0s 17ms/step - loss: 149.9969 - mae: 9.7667 - val_loss: 201.1064 - val_mae: 10.9748\n",
      "Epoch 28/100\n",
      "11/11 [==============================] - 0s 23ms/step - loss: 140.1759 - mae: 9.3577 - val_loss: 187.8727 - val_mae: 10.5080\n",
      "Epoch 29/100\n",
      "11/11 [==============================] - 0s 27ms/step - loss: 130.2675 - mae: 8.9359 - val_loss: 176.8107 - val_mae: 10.1311\n",
      "Epoch 30/100\n",
      "11/11 [==============================] - 0s 26ms/step - loss: 122.3650 - mae: 8.6014 - val_loss: 167.6700 - val_mae: 9.8029\n",
      "Epoch 31/100\n",
      "11/11 [==============================] - 0s 27ms/step - loss: 115.6411 - mae: 8.3025 - val_loss: 159.2759 - val_mae: 9.4827\n",
      "Epoch 32/100\n",
      "11/11 [==============================] - 0s 36ms/step - loss: 109.7116 - mae: 8.0138 - val_loss: 152.4347 - val_mae: 9.2268\n",
      "Epoch 33/100\n",
      "11/11 [==============================] - 0s 32ms/step - loss: 104.7584 - mae: 7.7780 - val_loss: 145.7513 - val_mae: 8.9588\n",
      "Epoch 34/100\n",
      "11/11 [==============================] - 0s 39ms/step - loss: 100.0283 - mae: 7.5430 - val_loss: 140.5768 - val_mae: 8.7326\n",
      "Epoch 35/100\n",
      "11/11 [==============================] - 0s 41ms/step - loss: 96.1839 - mae: 7.3479 - val_loss: 135.9584 - val_mae: 8.5400\n",
      "Epoch 36/100\n",
      "11/11 [==============================] - 1s 53ms/step - loss: 92.5598 - mae: 7.1595 - val_loss: 131.3263 - val_mae: 8.3545\n",
      "Epoch 37/100\n",
      "11/11 [==============================] - 0s 33ms/step - loss: 88.9538 - mae: 6.9767 - val_loss: 126.6451 - val_mae: 8.1562\n",
      "Epoch 38/100\n",
      "11/11 [==============================] - 0s 25ms/step - loss: 85.4685 - mae: 6.7836 - val_loss: 122.7569 - val_mae: 7.9909\n",
      "Epoch 39/100\n",
      "11/11 [==============================] - 0s 34ms/step - loss: 82.3929 - mae: 6.6263 - val_loss: 118.9822 - val_mae: 7.8408\n",
      "Epoch 40/100\n",
      "11/11 [==============================] - 0s 21ms/step - loss: 79.1937 - mae: 6.4520 - val_loss: 114.4948 - val_mae: 7.6422\n",
      "Epoch 41/100\n",
      "11/11 [==============================] - 0s 25ms/step - loss: 76.1613 - mae: 6.2892 - val_loss: 110.0717 - val_mae: 7.4406\n",
      "Epoch 42/100\n",
      "11/11 [==============================] - 0s 34ms/step - loss: 72.9887 - mae: 6.1158 - val_loss: 106.1120 - val_mae: 7.2625\n",
      "Epoch 43/100\n",
      "11/11 [==============================] - 0s 27ms/step - loss: 70.3058 - mae: 5.9780 - val_loss: 102.3412 - val_mae: 7.0938\n",
      "Epoch 44/100\n",
      "11/11 [==============================] - 0s 27ms/step - loss: 67.6146 - mae: 5.8213 - val_loss: 98.1183 - val_mae: 6.9280\n",
      "Epoch 45/100\n",
      "11/11 [==============================] - 0s 28ms/step - loss: 65.1831 - mae: 5.6795 - val_loss: 94.7228 - val_mae: 6.7673\n",
      "Epoch 46/100\n",
      "11/11 [==============================] - 0s 17ms/step - loss: 62.8356 - mae: 5.5352 - val_loss: 91.6234 - val_mae: 6.6301\n",
      "Epoch 47/100\n",
      "11/11 [==============================] - 0s 23ms/step - loss: 60.6294 - mae: 5.3938 - val_loss: 88.2255 - val_mae: 6.4852\n",
      "Epoch 48/100\n",
      "11/11 [==============================] - 0s 12ms/step - loss: 58.4152 - mae: 5.2550 - val_loss: 84.8892 - val_mae: 6.3269\n",
      "Epoch 49/100\n",
      "11/11 [==============================] - 0s 29ms/step - loss: 56.5361 - mae: 5.1355 - val_loss: 82.2396 - val_mae: 6.2029\n",
      "Epoch 50/100\n",
      "11/11 [==============================] - 0s 20ms/step - loss: 54.5750 - mae: 4.9999 - val_loss: 79.5346 - val_mae: 6.0774\n",
      "Epoch 51/100\n",
      "11/11 [==============================] - 0s 31ms/step - loss: 52.9285 - mae: 4.8958 - val_loss: 76.9258 - val_mae: 5.9587\n",
      "Epoch 52/100\n",
      "11/11 [==============================] - 0s 27ms/step - loss: 51.4959 - mae: 4.7877 - val_loss: 74.2503 - val_mae: 5.8152\n",
      "Epoch 53/100\n",
      "11/11 [==============================] - 0s 26ms/step - loss: 50.0229 - mae: 4.6845 - val_loss: 71.6969 - val_mae: 5.6935\n",
      "Epoch 54/100\n",
      "11/11 [==============================] - 0s 37ms/step - loss: 48.6017 - mae: 4.5725 - val_loss: 69.6635 - val_mae: 5.5847\n",
      "Epoch 55/100\n",
      "11/11 [==============================] - 0s 25ms/step - loss: 47.3739 - mae: 4.4730 - val_loss: 67.6849 - val_mae: 5.4578\n",
      "Epoch 56/100\n",
      "11/11 [==============================] - 0s 31ms/step - loss: 46.2530 - mae: 4.3910 - val_loss: 65.8319 - val_mae: 5.3368\n",
      "Epoch 57/100\n",
      "11/11 [==============================] - 1s 55ms/step - loss: 45.2783 - mae: 4.3197 - val_loss: 64.2393 - val_mae: 5.2578\n",
      "Epoch 58/100\n",
      "11/11 [==============================] - 1s 63ms/step - loss: 44.1348 - mae: 4.2266 - val_loss: 62.1311 - val_mae: 5.1334\n",
      "Epoch 59/100\n",
      "11/11 [==============================] - 0s 43ms/step - loss: 43.0849 - mae: 4.1498 - val_loss: 60.5366 - val_mae: 5.0614\n",
      "Epoch 60/100\n",
      "11/11 [==============================] - 0s 29ms/step - loss: 42.1904 - mae: 4.0686 - val_loss: 58.8413 - val_mae: 4.9462\n",
      "Epoch 61/100\n",
      "11/11 [==============================] - 0s 33ms/step - loss: 41.3534 - mae: 4.0164 - val_loss: 57.4576 - val_mae: 4.8761\n",
      "Epoch 62/100\n",
      "11/11 [==============================] - 1s 69ms/step - loss: 40.4929 - mae: 3.9532 - val_loss: 56.3674 - val_mae: 4.8290\n",
      "Epoch 63/100\n",
      "11/11 [==============================] - 0s 37ms/step - loss: 39.8103 - mae: 3.8964 - val_loss: 54.5998 - val_mae: 4.7263\n",
      "Epoch 64/100\n",
      "11/11 [==============================] - 0s 23ms/step - loss: 39.0150 - mae: 3.8231 - val_loss: 53.3798 - val_mae: 4.6423\n",
      "Epoch 65/100\n",
      "11/11 [==============================] - 0s 33ms/step - loss: 38.4251 - mae: 3.7908 - val_loss: 52.2010 - val_mae: 4.5928\n",
      "Epoch 66/100\n",
      "11/11 [==============================] - 1s 65ms/step - loss: 37.7425 - mae: 3.7421 - val_loss: 50.9097 - val_mae: 4.5123\n",
      "Epoch 67/100\n",
      "11/11 [==============================] - 0s 30ms/step - loss: 37.1132 - mae: 3.6949 - val_loss: 49.7229 - val_mae: 4.4325\n",
      "Epoch 68/100\n",
      "11/11 [==============================] - 0s 21ms/step - loss: 36.4591 - mae: 3.6500 - val_loss: 48.7002 - val_mae: 4.3969\n",
      "Epoch 69/100\n",
      "11/11 [==============================] - 0s 27ms/step - loss: 35.8770 - mae: 3.5941 - val_loss: 47.7001 - val_mae: 4.3525\n",
      "Epoch 70/100\n",
      "11/11 [==============================] - 0s 21ms/step - loss: 35.4272 - mae: 3.5662 - val_loss: 46.7560 - val_mae: 4.3092\n",
      "Epoch 71/100\n",
      "11/11 [==============================] - 0s 33ms/step - loss: 34.9115 - mae: 3.5300 - val_loss: 45.5840 - val_mae: 4.2412\n",
      "Epoch 72/100\n",
      "11/11 [==============================] - 0s 23ms/step - loss: 34.4003 - mae: 3.4993 - val_loss: 44.8936 - val_mae: 4.2066\n",
      "Epoch 73/100\n",
      "11/11 [==============================] - 0s 31ms/step - loss: 33.9785 - mae: 3.4751 - val_loss: 44.2391 - val_mae: 4.1720\n",
      "Epoch 74/100\n",
      "11/11 [==============================] - 0s 34ms/step - loss: 33.6283 - mae: 3.4583 - val_loss: 43.4615 - val_mae: 4.1347\n",
      "Epoch 75/100\n",
      "11/11 [==============================] - 0s 20ms/step - loss: 33.1695 - mae: 3.4358 - val_loss: 42.7122 - val_mae: 4.0970\n",
      "Epoch 76/100\n",
      "11/11 [==============================] - 0s 29ms/step - loss: 32.6830 - mae: 3.3984 - val_loss: 41.9982 - val_mae: 4.0497\n",
      "Epoch 77/100\n",
      "11/11 [==============================] - 0s 29ms/step - loss: 32.2159 - mae: 3.3818 - val_loss: 41.3008 - val_mae: 4.0073\n",
      "Epoch 78/100\n",
      "11/11 [==============================] - 0s 29ms/step - loss: 31.7701 - mae: 3.3482 - val_loss: 40.7671 - val_mae: 3.9928\n",
      "Epoch 79/100\n",
      "11/11 [==============================] - 0s 32ms/step - loss: 31.3053 - mae: 3.3291 - val_loss: 39.8385 - val_mae: 3.9317\n",
      "Epoch 80/100\n",
      "11/11 [==============================] - 0s 21ms/step - loss: 30.9004 - mae: 3.3110 - val_loss: 39.3460 - val_mae: 3.9170\n",
      "Epoch 81/100\n",
      "11/11 [==============================] - 0s 19ms/step - loss: 30.5036 - mae: 3.2981 - val_loss: 38.5109 - val_mae: 3.8617\n",
      "Epoch 82/100\n",
      "11/11 [==============================] - 0s 25ms/step - loss: 30.0712 - mae: 3.2641 - val_loss: 37.9279 - val_mae: 3.8247\n",
      "Epoch 83/100\n",
      "11/11 [==============================] - 0s 27ms/step - loss: 29.7109 - mae: 3.2401 - val_loss: 37.2338 - val_mae: 3.7862\n",
      "Epoch 84/100\n",
      "11/11 [==============================] - 0s 31ms/step - loss: 29.2662 - mae: 3.2158 - val_loss: 36.5769 - val_mae: 3.7324\n",
      "Epoch 85/100\n",
      "11/11 [==============================] - 0s 26ms/step - loss: 29.0250 - mae: 3.2111 - val_loss: 36.0742 - val_mae: 3.7077\n",
      "Epoch 86/100\n",
      "11/11 [==============================] - 0s 14ms/step - loss: 28.5528 - mae: 3.1761 - val_loss: 35.6267 - val_mae: 3.6998\n",
      "Epoch 87/100\n",
      "11/11 [==============================] - 0s 15ms/step - loss: 28.1923 - mae: 3.1595 - val_loss: 34.8961 - val_mae: 3.6353\n",
      "Epoch 88/100\n",
      "11/11 [==============================] - 0s 19ms/step - loss: 27.8824 - mae: 3.1567 - val_loss: 34.5555 - val_mae: 3.6297\n",
      "Epoch 89/100\n",
      "11/11 [==============================] - 0s 20ms/step - loss: 27.5516 - mae: 3.1256 - val_loss: 34.1943 - val_mae: 3.6068\n",
      "Epoch 90/100\n",
      "11/11 [==============================] - 0s 12ms/step - loss: 27.3090 - mae: 3.1011 - val_loss: 33.5497 - val_mae: 3.5705\n",
      "Epoch 91/100\n",
      "11/11 [==============================] - 0s 20ms/step - loss: 27.0219 - mae: 3.0853 - val_loss: 33.0231 - val_mae: 3.5449\n",
      "Epoch 92/100\n",
      "11/11 [==============================] - 0s 14ms/step - loss: 26.6132 - mae: 3.0629 - val_loss: 32.7752 - val_mae: 3.5600\n",
      "Epoch 93/100\n",
      "11/11 [==============================] - 0s 14ms/step - loss: 26.3977 - mae: 3.0695 - val_loss: 32.0250 - val_mae: 3.5085\n",
      "Epoch 94/100\n",
      "11/11 [==============================] - 0s 17ms/step - loss: 26.1212 - mae: 3.0654 - val_loss: 31.3576 - val_mae: 3.4242\n",
      "Epoch 95/100\n",
      "11/11 [==============================] - 0s 26ms/step - loss: 25.8326 - mae: 3.0223 - val_loss: 30.9539 - val_mae: 3.4241\n",
      "Epoch 96/100\n",
      "11/11 [==============================] - 0s 17ms/step - loss: 25.5957 - mae: 3.0198 - val_loss: 30.5663 - val_mae: 3.4201\n",
      "Epoch 97/100\n",
      "11/11 [==============================] - 0s 19ms/step - loss: 25.2764 - mae: 3.0055 - val_loss: 29.9937 - val_mae: 3.3579\n",
      "Epoch 98/100\n",
      "11/11 [==============================] - 0s 13ms/step - loss: 24.9850 - mae: 2.9572 - val_loss: 29.4540 - val_mae: 3.3838\n",
      "Epoch 99/100\n",
      "11/11 [==============================] - 0s 18ms/step - loss: 24.7761 - mae: 2.9863 - val_loss: 29.0486 - val_mae: 3.3219\n",
      "Epoch 100/100\n",
      "11/11 [==============================] - 0s 23ms/step - loss: 24.5639 - mae: 2.9481 - val_loss: 28.8432 - val_mae: 3.3476\n"
     ]
    }
   ],
   "source": [
    "# train model\n",
    "history = model.fit(X_train_scaled, y_train, validation_split=0.2, epochs=100)"
   ]
  },
  {
   "cell_type": "markdown",
   "metadata": {},
   "source": [
    "### visualisation de l'entrainement"
   ]
  },
  {
   "cell_type": "code",
   "execution_count": 17,
   "metadata": {},
   "outputs": [],
   "source": [
    "import matplotlib.pyplot as plt"
   ]
  },
  {
   "cell_type": "code",
   "execution_count": 18,
   "metadata": {},
   "outputs": [
    {
     "name": "stdout",
     "output_type": "stream",
     "text": [
      "dict_keys(['loss', 'mae', 'val_loss', 'val_mae'])\n"
     ]
    }
   ],
   "source": [
    "# list all data in history\n",
    "print(history.history.keys())"
   ]
  },
  {
   "cell_type": "markdown",
   "metadata": {},
   "source": [
    "visualiser l'histoire de la métrique de précision mae au cours de l'entrainement, comparer données entrainement et validation"
   ]
  },
  {
   "cell_type": "code",
   "execution_count": 19,
   "metadata": {},
   "outputs": [
    {
     "data": {
      "image/png": "[encoded data removed]",
      "text/plain": [
       "<Figure size 432x288 with 1 Axes>"
      ]
     },
     "metadata": {
      "needs_background": "light"
     },
     "output_type": "display_data"
    }
   ],
   "source": [
    "plt.plot(history.history['mae'])\n",
    "plt.plot(history.history['val_mae'])\n",
    "plt.title('model accuracy')\n",
    "plt.ylabel('accuracy')\n",
    "plt.xlabel('epoch')\n",
    "plt.legend(['train', 'test'], loc='upper left')\n",
    "plt.show()"
   ]
  },
  {
   "cell_type": "markdown",
   "metadata": {},
   "source": [
    "visualiser l'histoire de la loss au cours de l'entrainement, comparer données entrainement et validation"
   ]
  },
  {
   "cell_type": "code",
   "execution_count": 20,
   "metadata": {},
   "outputs": [
    {
     "data": {
      "image/png": "[encoded data removed]",
      "text/plain": [
       "<Figure size 432x288 with 1 Axes>"
      ]
     },
     "metadata": {
      "needs_background": "light"
     },
     "output_type": "display_data"
    }
   ],
   "source": [
    "plt.plot(history.history['loss'])\n",
    "plt.plot(history.history['val_loss'])\n",
    "plt.title('model loss')\n",
    "plt.ylabel('loss')\n",
    "plt.xlabel('epoch')\n",
    "plt.legend(['train', 'test'], loc='upper left')\n",
    "plt.show()"
   ]
  },
  {
   "cell_type": "markdown",
   "metadata": {},
   "source": [
    "### évaluation du modèle entrainé"
   ]
  },
  {
   "cell_type": "markdown",
   "metadata": {},
   "source": [
    "évaluer le modèle sur le jeu de test. Est-ce que le nivéau de précision obtenu est comparable à celui du jeu d'entrainement?"
   ]
  },
  {
   "cell_type": "code",
   "execution_count": 21,
   "metadata": {},
   "outputs": [
    {
     "name": "stdout",
     "output_type": "stream",
     "text": [
      "4/4 [==============================] - 0s 4ms/step - loss: 22.6546 - mae: 3.6987\n"
     ]
    },
    {
     "data": {
      "text/plain": [
       "[22.654645919799805, 3.6987013816833496]"
      ]
     },
     "execution_count": 21,
     "metadata": {},
     "output_type": "execute_result"
    }
   ],
   "source": [
    "model.evaluate(X_test_scaled, y_test)"
   ]
  },
  {
   "cell_type": "markdown",
   "metadata": {},
   "source": [
    "### Utilisation du modèle entrainé"
   ]
  },
  {
   "cell_type": "markdown",
   "metadata": {},
   "source": [
    "utiliser le modèle entrainé pour prédire le prix du bien immobilier contenu dans les premières 5 instances du jeu de test, et comparer les prix obtenus avec les prix réels des mêmes logements. Que peut on dire sur la qualité de la prédiction?"
   ]
  },
  {
   "cell_type": "code",
   "execution_count": 22,
   "metadata": {},
   "outputs": [
    {
     "name": "stdout",
     "output_type": "stream",
     "text": [
      "[[10.845831]\n",
      " [16.381897]]\n",
      "[ 7.2 18.8]\n"
     ]
    }
   ],
   "source": [
    "# we get a sample data (the first 2 inputs from the training data)\n",
    "to_predict = X_test_scaled[:2]\n",
    "# we call the predict method\n",
    "predictions = model.predict(to_predict)\n",
    "# print the predictions\n",
    "print(predictions)\n",
    "# output\n",
    "# array([[13.272537], [39.808475]], dtype=float32)\n",
    "# print the real values\n",
    "print(y_test[:2])\n",
    "# array([15.2, 42.3])"
   ]
  },
  {
   "cell_type": "markdown",
   "metadata": {},
   "source": [
    "# Implémentation Bonus"
   ]
  },
  {
   "cell_type": "markdown",
   "metadata": {},
   "source": [
    "Pour les experts ou ceux qui veulent maîtriser le procès d'entraînement, dans cette implémentation différente du même exercice vous allez voir comment:\n",
    "* utiliser le subclassing pour créer l'architecture du modèle (pas toujours nécessaire)\n",
    "* utiliser un training loop customisé pour l'entrainement\n",
    "* utiliser du decorateur tf.function pour accélerer la fonction d'entrainement"
   ]
  },
  {
   "cell_type": "markdown",
   "metadata": {},
   "source": [
    "### données"
   ]
  },
  {
   "cell_type": "markdown",
   "metadata": {},
   "source": [
    "utiliser la fonctionnalité \"tf.data.Dataset.from_tensor_slices\" pour la création automatique de batches de données"
   ]
  },
  {
   "cell_type": "code",
   "execution_count": 23,
   "metadata": {},
   "outputs": [],
   "source": [
    "# use tf.data to manage dataset, shuffle and create batches\n",
    "train_ds = tf.data.Dataset.from_tensor_slices(\n",
    "    (X_train_scaled, y_train.reshape(y_train.shape[0],1))).shuffle(10000).batch(32)\n",
    "\n",
    "test_ds = tf.data.Dataset.from_tensor_slices((X_test_scaled, y_test.reshape(y_test.shape[0],1))).batch(32)"
   ]
  },
  {
   "cell_type": "markdown",
   "metadata": {},
   "source": [
    "### modèle\n",
    "\n",
    "utiliser le model subclassing pour la création de la même architecture NN"
   ]
  },
  {
   "cell_type": "code",
   "execution_count": 24,
   "metadata": {},
   "outputs": [],
   "source": [
    "# create model, for exemple with model subclassing\n",
    "\n",
    "class MyModel(tf.keras.models.Model):\n",
    "    def __init__(self):\n",
    "        super(MyModel, self).__init__()\n",
    "        self.d1 = tf.keras.layers.Dense(8, activation='relu')\n",
    "        self.d2 = tf.keras.layers.Dense(16, activation='relu')\n",
    "        self.d3 = tf.keras.layers.Dense(1)\n",
    "\n",
    "    def call(self, x):\n",
    "        x = self.d1(x)\n",
    "        x = self.d2(x)\n",
    "        out = self.d3(x)\n",
    "        return out\n",
    "\n",
    "# Create an instance of the model\n",
    "model = MyModel()"
   ]
  },
  {
   "cell_type": "code",
   "execution_count": 25,
   "metadata": {},
   "outputs": [],
   "source": [
    "# define loss function and optimizer\n",
    "loss_object = tf.keras.losses.MeanSquaredError()\n",
    "\n",
    "optimizer = tf.keras.optimizers.Adam()"
   ]
  },
  {
   "cell_type": "code",
   "execution_count": 26,
   "metadata": {},
   "outputs": [],
   "source": [
    "# select metrics \n",
    "train_loss = tf.keras.metrics.Mean(name='train_loss')\n",
    "train_accuracy = tf.keras.metrics.MeanAbsoluteError(name='train_accuracy')\n",
    "\n",
    "test_loss = tf.keras.metrics.Mean(name='test_loss')\n",
    "test_accuracy = tf.keras.metrics.MeanAbsoluteError(name='test_accuracy')"
   ]
  },
  {
   "cell_type": "code",
   "execution_count": 27,
   "metadata": {},
   "outputs": [],
   "source": [
    "# define training step inside a tf.function\n",
    "\n",
    "@tf.function\n",
    "def train_step(images, labels):\n",
    "    with tf.GradientTape() as tape:\n",
    "        # training=True is only needed if there are layers with different\n",
    "        # behavior during training versus inference (e.g. Dropout).\n",
    "        predictions = model(images, training=True)\n",
    "        loss = loss_object(labels, predictions)\n",
    "    gradients = tape.gradient(loss, model.trainable_variables)\n",
    "    optimizer.apply_gradients(zip(gradients, model.trainable_variables))\n",
    "\n",
    "    train_loss(loss)\n",
    "    train_accuracy(labels, predictions)"
   ]
  },
  {
   "cell_type": "code",
   "execution_count": 28,
   "metadata": {},
   "outputs": [],
   "source": [
    "# define test step inside a tf.function\n",
    "\n",
    "@tf.function\n",
    "def test_step(images, labels):\n",
    "    # training=False is only needed if there are layers with different\n",
    "    # behavior during training versus inference (e.g. Dropout).\n",
    "    \n",
    "    # run model prediction\n",
    "    predictions = model(images, training=False)\n",
    "    \n",
    "    # compute test loss\n",
    "    t_loss = loss_object(labels, predictions)\n",
    "    test_loss(t_loss)\n",
    "    \n",
    "    # compute test accuracy\n",
    "    test_accuracy(labels, predictions)"
   ]
  },
  {
   "cell_type": "code",
   "execution_count": 29,
   "metadata": {},
   "outputs": [
    {
     "name": "stdout",
     "output_type": "stream",
     "text": [
      "Epoch 1, Loss: 564.5575561523438, Accuracy: 21.978958129882812, Test Loss: 669.1094360351562, Test Accuracy: 22.53232192993164\n",
      "Epoch 2, Loss: 555.3994750976562, Accuracy: 21.730331420898438, Test Loss: 654.301025390625, Test Accuracy: 22.255035400390625\n",
      "Epoch 3, Loss: 538.668701171875, Accuracy: 21.437320709228516, Test Loss: 636.8387451171875, Test Accuracy: 21.92329978942871\n",
      "Epoch 4, Loss: 526.15380859375, Accuracy: 21.080766677856445, Test Loss: 616.5586547851562, Test Accuracy: 21.524471282958984\n",
      "Epoch 5, Loss: 504.3652648925781, Accuracy: 20.64162826538086, Test Loss: 591.7552490234375, Test Accuracy: 21.028764724731445\n",
      "Epoch 6, Loss: 479.1860046386719, Accuracy: 20.108531951904297, Test Loss: 562.0663452148438, Test Accuracy: 20.4044132232666\n",
      "Epoch 7, Loss: 453.81683349609375, Accuracy: 19.441999435424805, Test Loss: 527.850830078125, Test Accuracy: 19.664310455322266\n",
      "Epoch 8, Loss: 423.5911865234375, Accuracy: 18.645109176635742, Test Loss: 489.2424011230469, Test Accuracy: 18.7946834564209\n",
      "Epoch 9, Loss: 380.4096374511719, Accuracy: 17.727296829223633, Test Loss: 444.932861328125, Test Accuracy: 17.748823165893555\n",
      "Epoch 10, Loss: 341.5524597167969, Accuracy: 16.646583557128906, Test Loss: 398.5556640625, Test Accuracy: 16.611602783203125\n",
      "Epoch 11, Loss: 302.2049560546875, Accuracy: 15.504029273986816, Test Loss: 350.8334655761719, Test Accuracy: 15.358512878417969\n",
      "Epoch 12, Loss: 261.9974060058594, Accuracy: 14.249545097351074, Test Loss: 303.89996337890625, Test Accuracy: 14.045467376708984\n",
      "Epoch 13, Loss: 223.4278106689453, Accuracy: 12.935895919799805, Test Loss: 258.2110900878906, Test Accuracy: 12.73105239868164\n",
      "Epoch 14, Loss: 185.06907653808594, Accuracy: 11.636163711547852, Test Loss: 214.54812622070312, Test Accuracy: 11.501773834228516\n",
      "Epoch 15, Loss: 154.2469482421875, Accuracy: 10.461867332458496, Test Loss: 178.99664306640625, Test Accuracy: 10.458556175231934\n",
      "Epoch 16, Loss: 129.6245880126953, Accuracy: 9.509847640991211, Test Loss: 150.05271911621094, Test Accuracy: 9.615583419799805\n",
      "Epoch 17, Loss: 111.25674438476562, Accuracy: 8.74344539642334, Test Loss: 126.54296112060547, Test Accuracy: 8.88502025604248\n",
      "Epoch 18, Loss: 96.69715118408203, Accuracy: 8.12089729309082, Test Loss: 108.71116638183594, Test Accuracy: 8.261270523071289\n",
      "Epoch 19, Loss: 84.43067932128906, Accuracy: 7.620481967926025, Test Loss: 94.57212829589844, Test Accuracy: 7.716670989990234\n",
      "Epoch 20, Loss: 76.10846710205078, Accuracy: 7.18502950668335, Test Loss: 83.360595703125, Test Accuracy: 7.214348793029785\n",
      "Epoch 21, Loss: 68.07679748535156, Accuracy: 6.780738353729248, Test Loss: 74.94857788085938, Test Accuracy: 6.827403545379639\n",
      "Epoch 22, Loss: 62.301307678222656, Accuracy: 6.399690628051758, Test Loss: 67.78155517578125, Test Accuracy: 6.463785648345947\n",
      "Epoch 23, Loss: 55.642921447753906, Accuracy: 6.03900146484375, Test Loss: 62.12247085571289, Test Accuracy: 6.156378746032715\n",
      "Epoch 24, Loss: 50.03041076660156, Accuracy: 5.709869861602783, Test Loss: 57.47160339355469, Test Accuracy: 5.846850395202637\n",
      "Epoch 25, Loss: 45.4705810546875, Accuracy: 5.419538974761963, Test Loss: 53.761146545410156, Test Accuracy: 5.56221342086792\n",
      "Epoch 26, Loss: 41.70037078857422, Accuracy: 5.157330513000488, Test Loss: 51.11091232299805, Test Accuracy: 5.338749885559082\n",
      "Epoch 27, Loss: 40.44132995605469, Accuracy: 4.908069133758545, Test Loss: 48.997718811035156, Test Accuracy: 5.141360282897949\n",
      "Epoch 28, Loss: 36.17288589477539, Accuracy: 4.711393356323242, Test Loss: 47.60231018066406, Test Accuracy: 5.003576278686523\n",
      "Epoch 29, Loss: 33.69356918334961, Accuracy: 4.520834445953369, Test Loss: 46.288543701171875, Test Accuracy: 4.861295223236084\n",
      "Epoch 30, Loss: 31.819110870361328, Accuracy: 4.353090286254883, Test Loss: 45.505889892578125, Test Accuracy: 4.757882118225098\n",
      "Epoch 31, Loss: 30.097505569458008, Accuracy: 4.220034122467041, Test Loss: 44.90369415283203, Test Accuracy: 4.671218395233154\n",
      "Epoch 32, Loss: 28.477415084838867, Accuracy: 4.102478981018066, Test Loss: 44.562347412109375, Test Accuracy: 4.583695888519287\n",
      "Epoch 33, Loss: 27.41440773010254, Accuracy: 3.9858038425445557, Test Loss: 43.91156768798828, Test Accuracy: 4.499462604522705\n",
      "Epoch 34, Loss: 26.051204681396484, Accuracy: 3.8981010913848877, Test Loss: 43.55390167236328, Test Accuracy: 4.429286003112793\n",
      "Epoch 35, Loss: 25.671720504760742, Accuracy: 3.812912940979004, Test Loss: 43.15885925292969, Test Accuracy: 4.37112283706665\n",
      "Epoch 36, Loss: 24.677539825439453, Accuracy: 3.742241859436035, Test Loss: 43.0318489074707, Test Accuracy: 4.320539951324463\n",
      "Epoch 37, Loss: 24.38374900817871, Accuracy: 3.6997556686401367, Test Loss: 43.0042839050293, Test Accuracy: 4.286418437957764\n",
      "Epoch 38, Loss: 23.74911880493164, Accuracy: 3.650775671005249, Test Loss: 42.795166015625, Test Accuracy: 4.245905876159668\n",
      "Epoch 39, Loss: 22.94759750366211, Accuracy: 3.607001781463623, Test Loss: 42.8582649230957, Test Accuracy: 4.2246012687683105\n",
      "Epoch 40, Loss: 22.760162353515625, Accuracy: 3.5617971420288086, Test Loss: 42.44611358642578, Test Accuracy: 4.186056613922119\n",
      "Epoch 41, Loss: 22.421165466308594, Accuracy: 3.5358691215515137, Test Loss: 42.55326461791992, Test Accuracy: 4.171388626098633\n",
      "Epoch 42, Loss: 22.18193244934082, Accuracy: 3.4991724491119385, Test Loss: 42.180397033691406, Test Accuracy: 4.142926216125488\n",
      "Epoch 43, Loss: 21.849763870239258, Accuracy: 3.465977430343628, Test Loss: 41.90411376953125, Test Accuracy: 4.113558769226074\n",
      "Epoch 44, Loss: 21.302654266357422, Accuracy: 3.455737829208374, Test Loss: 42.295326232910156, Test Accuracy: 4.110637664794922\n",
      "Epoch 45, Loss: 20.962657928466797, Accuracy: 3.4341840744018555, Test Loss: 42.20018005371094, Test Accuracy: 4.093508720397949\n",
      "Epoch 46, Loss: 21.08578872680664, Accuracy: 3.4098737239837646, Test Loss: 42.126136779785156, Test Accuracy: 4.072573661804199\n",
      "Epoch 47, Loss: 20.656965255737305, Accuracy: 3.387295961380005, Test Loss: 41.849334716796875, Test Accuracy: 4.034310340881348\n",
      "Epoch 48, Loss: 20.25678253173828, Accuracy: 3.367192029953003, Test Loss: 41.86863708496094, Test Accuracy: 4.020873069763184\n",
      "Epoch 49, Loss: 20.18513298034668, Accuracy: 3.3494012355804443, Test Loss: 42.01213073730469, Test Accuracy: 4.024791240692139\n",
      "Epoch 50, Loss: 20.151670455932617, Accuracy: 3.3328092098236084, Test Loss: 41.91201400756836, Test Accuracy: 3.9975364208221436\n",
      "Epoch 51, Loss: 19.68622589111328, Accuracy: 3.3144948482513428, Test Loss: 42.027015686035156, Test Accuracy: 3.9946556091308594\n",
      "Epoch 52, Loss: 19.749032974243164, Accuracy: 3.2941505908966064, Test Loss: 41.58014678955078, Test Accuracy: 3.962681770324707\n",
      "Epoch 53, Loss: 19.306413650512695, Accuracy: 3.282938241958618, Test Loss: 41.679161071777344, Test Accuracy: 3.9558422565460205\n",
      "Epoch 54, Loss: 19.17738151550293, Accuracy: 3.2704968452453613, Test Loss: 41.64491653442383, Test Accuracy: 3.929194927215576\n",
      "Epoch 55, Loss: 19.155536651611328, Accuracy: 3.2564237117767334, Test Loss: 41.785423278808594, Test Accuracy: 3.92558217048645\n",
      "Epoch 56, Loss: 18.765602111816406, Accuracy: 3.234947919845581, Test Loss: 41.437591552734375, Test Accuracy: 3.9014148712158203\n",
      "Epoch 57, Loss: 18.535884857177734, Accuracy: 3.2233097553253174, Test Loss: 41.84305953979492, Test Accuracy: 3.8993871212005615\n",
      "Epoch 58, Loss: 18.76658821105957, Accuracy: 3.2099900245666504, Test Loss: 41.449981689453125, Test Accuracy: 3.874403953552246\n",
      "Epoch 59, Loss: 18.323219299316406, Accuracy: 3.188727617263794, Test Loss: 41.413814544677734, Test Accuracy: 3.8646552562713623\n",
      "Epoch 60, Loss: 18.469200134277344, Accuracy: 3.1721200942993164, Test Loss: 41.425140380859375, Test Accuracy: 3.86297607421875\n",
      "Epoch 61, Loss: 18.67909812927246, Accuracy: 3.1569089889526367, Test Loss: 41.304874420166016, Test Accuracy: 3.842745304107666\n",
      "Epoch 62, Loss: 17.891029357910156, Accuracy: 3.1569759845733643, Test Loss: 42.21827697753906, Test Accuracy: 3.8785271644592285\n",
      "Epoch 63, Loss: 17.857402801513672, Accuracy: 3.1433136463165283, Test Loss: 42.176551818847656, Test Accuracy: 3.85882306098938\n",
      "Epoch 64, Loss: 17.5303955078125, Accuracy: 3.129922389984131, Test Loss: 42.249961853027344, Test Accuracy: 3.839083194732666\n",
      "Epoch 65, Loss: 17.514598846435547, Accuracy: 3.122283697128296, Test Loss: 42.01503372192383, Test Accuracy: 3.8267059326171875\n",
      "Epoch 66, Loss: 17.020444869995117, Accuracy: 3.0959110260009766, Test Loss: 41.890098571777344, Test Accuracy: 3.811920166015625\n",
      "Epoch 67, Loss: 17.095842361450195, Accuracy: 3.0801517963409424, Test Loss: 41.51028823852539, Test Accuracy: 3.795037031173706\n",
      "Epoch 68, Loss: 16.76917266845703, Accuracy: 3.067277669906616, Test Loss: 41.767879486083984, Test Accuracy: 3.786680221557617\n",
      "Epoch 69, Loss: 17.05144500732422, Accuracy: 3.0598418712615967, Test Loss: 42.17966842651367, Test Accuracy: 3.7829790115356445\n",
      "Epoch 70, Loss: 16.786884307861328, Accuracy: 3.045757532119751, Test Loss: 42.26305389404297, Test Accuracy: 3.7793357372283936\n",
      "Epoch 71, Loss: 16.448978424072266, Accuracy: 3.0272746086120605, Test Loss: 41.905982971191406, Test Accuracy: 3.76830792427063\n",
      "Epoch 72, Loss: 16.418514251708984, Accuracy: 3.0228359699249268, Test Loss: 42.282859802246094, Test Accuracy: 3.7625865936279297\n",
      "Epoch 73, Loss: 16.215328216552734, Accuracy: 3.007460594177246, Test Loss: 42.12789535522461, Test Accuracy: 3.7562055587768555\n",
      "Epoch 74, Loss: 16.115741729736328, Accuracy: 2.991666316986084, Test Loss: 42.6480712890625, Test Accuracy: 3.7559359073638916\n",
      "Epoch 75, Loss: 15.950277328491211, Accuracy: 2.982163190841675, Test Loss: 42.68517303466797, Test Accuracy: 3.7401392459869385\n",
      "Epoch 76, Loss: 16.64894676208496, Accuracy: 2.967607021331787, Test Loss: 42.086509704589844, Test Accuracy: 3.716909408569336\n",
      "Epoch 77, Loss: 15.677000999450684, Accuracy: 2.9527792930603027, Test Loss: 42.839839935302734, Test Accuracy: 3.7165441513061523\n",
      "Epoch 78, Loss: 15.446211814880371, Accuracy: 2.9507863521575928, Test Loss: 43.52726364135742, Test Accuracy: 3.7194018363952637\n",
      "Epoch 79, Loss: 15.48691177368164, Accuracy: 2.940406322479248, Test Loss: 43.47383499145508, Test Accuracy: 3.7193853855133057\n",
      "Epoch 80, Loss: 15.366636276245117, Accuracy: 2.9195072650909424, Test Loss: 43.15958023071289, Test Accuracy: 3.6883318424224854\n",
      "Epoch 81, Loss: 15.37831974029541, Accuracy: 2.912264585494995, Test Loss: 43.662845611572266, Test Accuracy: 3.6865341663360596\n",
      "Epoch 82, Loss: 15.086247444152832, Accuracy: 2.903818368911743, Test Loss: 43.53727722167969, Test Accuracy: 3.6657917499542236\n",
      "Epoch 83, Loss: 15.085527420043945, Accuracy: 2.893216609954834, Test Loss: 43.80989074707031, Test Accuracy: 3.6702582836151123\n",
      "Epoch 84, Loss: 14.98548412322998, Accuracy: 2.8785600662231445, Test Loss: 44.10394287109375, Test Accuracy: 3.657310962677002\n",
      "Epoch 85, Loss: 14.806087493896484, Accuracy: 2.863921880722046, Test Loss: 44.33538055419922, Test Accuracy: 3.664093017578125\n",
      "Epoch 86, Loss: 15.345308303833008, Accuracy: 2.8612747192382812, Test Loss: 44.065635681152344, Test Accuracy: 3.6337311267852783\n",
      "Epoch 87, Loss: 15.29122543334961, Accuracy: 2.8407065868377686, Test Loss: 44.29611587524414, Test Accuracy: 3.642624616622925\n",
      "Epoch 88, Loss: 14.399785041809082, Accuracy: 2.8322858810424805, Test Loss: 44.80853271484375, Test Accuracy: 3.638652801513672\n",
      "Epoch 89, Loss: 14.311594009399414, Accuracy: 2.8327853679656982, Test Loss: 45.04740905761719, Test Accuracy: 3.6238346099853516\n",
      "Epoch 90, Loss: 14.207865715026855, Accuracy: 2.8213446140289307, Test Loss: 44.89021682739258, Test Accuracy: 3.61580228805542\n",
      "Epoch 91, Loss: 14.176758766174316, Accuracy: 2.8066108226776123, Test Loss: 44.56672286987305, Test Accuracy: 3.598578691482544\n",
      "Epoch 92, Loss: 14.204636573791504, Accuracy: 2.797095537185669, Test Loss: 44.928550720214844, Test Accuracy: 3.591879367828369\n",
      "Epoch 93, Loss: 14.383270263671875, Accuracy: 2.794609546661377, Test Loss: 44.63890075683594, Test Accuracy: 3.5585107803344727\n",
      "Epoch 94, Loss: 13.912294387817383, Accuracy: 2.787874221801758, Test Loss: 45.644657135009766, Test Accuracy: 3.57619309425354\n",
      "Epoch 95, Loss: 13.88815689086914, Accuracy: 2.7750818729400635, Test Loss: 45.36521911621094, Test Accuracy: 3.5698630809783936\n",
      "Epoch 96, Loss: 14.110773086547852, Accuracy: 2.761608123779297, Test Loss: 45.66661071777344, Test Accuracy: 3.5658581256866455\n",
      "Epoch 97, Loss: 13.800443649291992, Accuracy: 2.758115291595459, Test Loss: 46.369293212890625, Test Accuracy: 3.5639448165893555\n",
      "Epoch 98, Loss: 13.695918083190918, Accuracy: 2.7447803020477295, Test Loss: 46.36931228637695, Test Accuracy: 3.5623109340667725\n",
      "Epoch 99, Loss: 13.835633277893066, Accuracy: 2.7389559745788574, Test Loss: 46.411258697509766, Test Accuracy: 3.5569446086883545\n",
      "Epoch 100, Loss: 13.330803871154785, Accuracy: 2.729200601577759, Test Loss: 46.30413818359375, Test Accuracy: 3.538565158843994\n"
     ]
    }
   ],
   "source": [
    "# run custom training loop\n",
    "\n",
    "EPOCHS = 100\n",
    "\n",
    "for epoch in range(EPOCHS):\n",
    "    # Reset the metrics at the start of the next epoch\n",
    "    train_loss.reset_states()\n",
    "    train_accuracy.reset_states()\n",
    "    test_loss.reset_states()\n",
    "    test_accuracy.reset_states()\n",
    "\n",
    "    for data, labels in train_ds:\n",
    "        train_step(data, labels)\n",
    "\n",
    "    for test_data, test_labels in test_ds:\n",
    "        test_step(test_data, test_labels)\n",
    "\n",
    "    print(\n",
    "        f'Epoch {epoch + 1}, '\n",
    "        f'Loss: {train_loss.result()}, '\n",
    "        f'Accuracy: {train_accuracy.result()}, '\n",
    "        f'Test Loss: {test_loss.result()}, '\n",
    "        f'Test Accuracy: {test_accuracy.result()}'\n",
    "        )"
   ]
  },
  {
   "cell_type": "code",
   "execution_count": null,
   "metadata": {},
   "outputs": [],
   "source": []
  }
 ],
 "metadata": {
  "kernelspec": {
   "display_name": "Python 3 (ipykernel)",
   "language": "python",
   "name": "python3"
  },
  "language_info": {
   "codemirror_mode": {
    "name": "ipython",
    "version": 3
   },
   "file_extension": ".py",
   "mimetype": "text/x-python",
   "name": "python",
   "nbconvert_exporter": "python",
   "pygments_lexer": "ipython3",
   "version": "3.8.12"
  }
 },
 "nbformat": 4,
 "nbformat_minor": 2
}
